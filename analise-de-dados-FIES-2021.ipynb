{
 "cells": [
  {
   "cell_type": "markdown",
   "metadata": {
    "application/vnd.databricks.v1+cell": {
     "cellMetadata": {},
     "inputWidgets": {},
     "nuid": "9364096e-ce05-47d8-beae-df792ca03239",
     "showTitle": false,
     "title": ""
    }
   },
   "source": [
    "## Análise de Dados FIES 2021 com Databricks"
   ]
  },
  {
   "cell_type": "code",
   "execution_count": 0,
   "metadata": {
    "application/vnd.databricks.v1+cell": {
     "cellMetadata": {
      "byteLimit": 2048000,
      "rowLimit": 10000
     },
     "inputWidgets": {},
     "nuid": "290e9f5e-00eb-43e3-a6e3-d02002405856",
     "showTitle": false,
     "title": ""
    }
   },
   "outputs": [
    {
     "output_type": "display_data",
     "data": {
      "text/html": [
       "<style scoped>\n",
       "  .table-result-container {\n",
       "    max-height: 300px;\n",
       "    overflow: auto;\n",
       "  }\n",
       "  table, th, td {\n",
       "    border: 1px solid black;\n",
       "    border-collapse: collapse;\n",
       "  }\n",
       "  th, td {\n",
       "    padding: 5px;\n",
       "  }\n",
       "  th {\n",
       "    text-align: left;\n",
       "  }\n",
       "</style><div class='table-result-container'><table class='table-result'><thead style='background-color: white'><tr><th>path</th><th>name</th><th>size</th><th>modificationTime</th></tr></thead><tbody><tr><td>dbfs:/FileStore/tables/analise_dados_fies_2021/</td><td>analise_dados_fies_2021/</td><td>0</td><td>0</td></tr><tr><td>dbfs:/FileStore/tables/analise_dados_prouni/</td><td>analise_dados_prouni/</td><td>0</td><td>0</td></tr><tr><td>dbfs:/FileStore/tables/arquivos_curso/</td><td>arquivos_curso/</td><td>0</td><td>0</td></tr><tr><td>dbfs:/FileStore/tables/aula-databricks/</td><td>aula-databricks/</td><td>0</td><td>0</td></tr><tr><td>dbfs:/FileStore/tables/dados/</td><td>dados/</td><td>0</td><td>0</td></tr><tr><td>dbfs:/FileStore/tables/data.csv</td><td>data.csv</td><td>2781</td><td>1705440822000</td></tr><tr><td>dbfs:/FileStore/tables/explorando_tipos_arquivos/</td><td>explorando_tipos_arquivos/</td><td>0</td><td>0</td></tr></tbody></table></div>"
      ]
     },
     "metadata": {
      "application/vnd.databricks.v1+output": {
       "addedWidgets": {},
       "aggData": [],
       "aggError": "",
       "aggOverflow": false,
       "aggSchema": [],
       "aggSeriesLimitReached": false,
       "aggType": "",
       "arguments": {},
       "columnCustomDisplayInfos": {},
       "data": [
        [
         "dbfs:/FileStore/tables/analise_dados_fies_2021/",
         "analise_dados_fies_2021/",
         0,
         0
        ],
        [
         "dbfs:/FileStore/tables/analise_dados_prouni/",
         "analise_dados_prouni/",
         0,
         0
        ],
        [
         "dbfs:/FileStore/tables/arquivos_curso/",
         "arquivos_curso/",
         0,
         0
        ],
        [
         "dbfs:/FileStore/tables/aula-databricks/",
         "aula-databricks/",
         0,
         0
        ],
        [
         "dbfs:/FileStore/tables/dados/",
         "dados/",
         0,
         0
        ],
        [
         "dbfs:/FileStore/tables/data.csv",
         "data.csv",
         2781,
         1705440822000
        ],
        [
         "dbfs:/FileStore/tables/explorando_tipos_arquivos/",
         "explorando_tipos_arquivos/",
         0,
         0
        ]
       ],
       "datasetInfos": [],
       "dbfsResultPath": null,
       "isJsonSchema": true,
       "metadata": {},
       "overflow": false,
       "plotOptions": {
        "customPlotOptions": {},
        "displayType": "table",
        "pivotAggregation": null,
        "pivotColumns": null,
        "xColumns": null,
        "yColumns": null
       },
       "removedWidgets": [],
       "schema": [
        {
         "metadata": "{}",
         "name": "path",
         "type": "\"string\""
        },
        {
         "metadata": "{}",
         "name": "name",
         "type": "\"string\""
        },
        {
         "metadata": "{}",
         "name": "size",
         "type": "\"long\""
        },
        {
         "metadata": "{}",
         "name": "modificationTime",
         "type": "\"long\""
        }
       ],
       "type": "table"
      }
     },
     "output_type": "display_data"
    }
   ],
   "source": [
    "# listando diretório\n",
    "display(dbutils.fs.ls('/FileStore/tables/'))"
   ]
  },
  {
   "cell_type": "code",
   "execution_count": 0,
   "metadata": {
    "application/vnd.databricks.v1+cell": {
     "cellMetadata": {
      "byteLimit": 2048000,
      "rowLimit": 10000
     },
     "inputWidgets": {},
     "nuid": "a01f9e30-60bc-40a8-8c21-42d12c8b2331",
     "showTitle": false,
     "title": ""
    }
   },
   "outputs": [
    {
     "output_type": "stream",
     "name": "stdout",
     "output_type": "stream",
     "text": [
      "Out[2]: True"
     ]
    }
   ],
   "source": [
    "# criando diretório\n",
    "dbutils.fs.mkdirs('/FileStore/tables/analise_dados_fies_2021')"
   ]
  },
  {
   "cell_type": "code",
   "execution_count": 0,
   "metadata": {
    "application/vnd.databricks.v1+cell": {
     "cellMetadata": {
      "byteLimit": 2048000,
      "rowLimit": 10000
     },
     "inputWidgets": {},
     "nuid": "b7f97254-4b33-4a86-ba86-77945eef063c",
     "showTitle": false,
     "title": ""
    }
   },
   "outputs": [
    {
     "output_type": "display_data",
     "data": {
      "text/html": [
       "<style scoped>\n",
       "  .table-result-container {\n",
       "    max-height: 300px;\n",
       "    overflow: auto;\n",
       "  }\n",
       "  table, th, td {\n",
       "    border: 1px solid black;\n",
       "    border-collapse: collapse;\n",
       "  }\n",
       "  th, td {\n",
       "    padding: 5px;\n",
       "  }\n",
       "  th {\n",
       "    text-align: left;\n",
       "  }\n",
       "</style><div class='table-result-container'><table class='table-result'><thead style='background-color: white'><tr><th>path</th><th>name</th><th>size</th><th>modificationTime</th></tr></thead><tbody><tr><td>dbfs:/FileStore/tables/analise_dados_fies_2021/Captura_de_tela_2024_01_28_000930.png</td><td>Captura_de_tela_2024_01_28_000930.png</td><td>8005</td><td>1706411423000</td></tr><tr><td>dbfs:/FileStore/tables/analise_dados_fies_2021/relatorio_inscricao_dados_abertos_fies_22021.csv</td><td>relatorio_inscricao_dados_abertos_fies_22021.csv</td><td>132534412</td><td>1706358147000</td></tr></tbody></table></div>"
      ]
     },
     "metadata": {
      "application/vnd.databricks.v1+output": {
       "addedWidgets": {},
       "aggData": [],
       "aggError": "",
       "aggOverflow": false,
       "aggSchema": [],
       "aggSeriesLimitReached": false,
       "aggType": "",
       "arguments": {},
       "columnCustomDisplayInfos": {},
       "data": [
        [
         "dbfs:/FileStore/tables/analise_dados_fies_2021/Captura_de_tela_2024_01_28_000930.png",
         "Captura_de_tela_2024_01_28_000930.png",
         8005,
         1706411423000
        ],
        [
         "dbfs:/FileStore/tables/analise_dados_fies_2021/relatorio_inscricao_dados_abertos_fies_22021.csv",
         "relatorio_inscricao_dados_abertos_fies_22021.csv",
         132534412,
         1706358147000
        ]
       ],
       "datasetInfos": [],
       "dbfsResultPath": null,
       "isJsonSchema": true,
       "metadata": {},
       "overflow": false,
       "plotOptions": {
        "customPlotOptions": {},
        "displayType": "table",
        "pivotAggregation": null,
        "pivotColumns": null,
        "xColumns": null,
        "yColumns": null
       },
       "removedWidgets": [],
       "schema": [
        {
         "metadata": "{}",
         "name": "path",
         "type": "\"string\""
        },
        {
         "metadata": "{}",
         "name": "name",
         "type": "\"string\""
        },
        {
         "metadata": "{}",
         "name": "size",
         "type": "\"long\""
        },
        {
         "metadata": "{}",
         "name": "modificationTime",
         "type": "\"long\""
        }
       ],
       "type": "table"
      }
     },
     "output_type": "display_data"
    }
   ],
   "source": [
    "# listando diretório\n",
    "display(dbutils.fs.ls('/FileStore/tables/analise_dados_fies_2021'))"
   ]
  },
  {
   "cell_type": "code",
   "execution_count": 0,
   "metadata": {
    "application/vnd.databricks.v1+cell": {
     "cellMetadata": {
      "byteLimit": 2048000,
      "rowLimit": 10000
     },
     "inputWidgets": {},
     "nuid": "cb827d64-fc9c-4046-8f9b-da36c388acc5",
     "showTitle": false,
     "title": ""
    }
   },
   "outputs": [],
   "source": [
    "# definindo uma variável para o local do arquivo\n",
    "local_arquivo = '/FileStore/tables/analise_dados_fies_2021/relatorio_inscricao_dados_abertos_fies_22021.csv'"
   ]
  },
  {
   "cell_type": "markdown",
   "metadata": {
    "application/vnd.databricks.v1+cell": {
     "cellMetadata": {},
     "inputWidgets": {},
     "nuid": "5625e191-9c7e-4d0f-b57c-a3b40e1ea61e",
     "showTitle": false,
     "title": ""
    }
   },
   "source": [
    "## Desenvolvendo análises com Pandas no PySpark"
   ]
  },
  {
   "cell_type": "code",
   "execution_count": 0,
   "metadata": {
    "application/vnd.databricks.v1+cell": {
     "cellMetadata": {
      "byteLimit": 2048000,
      "rowLimit": 10000
     },
     "inputWidgets": {},
     "nuid": "3fa2acd7-d564-408d-8964-18222b585d0c",
     "showTitle": false,
     "title": ""
    }
   },
   "outputs": [],
   "source": [
    "import pyspark.pandas as ps"
   ]
  },
  {
   "cell_type": "code",
   "execution_count": 0,
   "metadata": {
    "application/vnd.databricks.v1+cell": {
     "cellMetadata": {
      "byteLimit": 2048000,
      "rowLimit": 10000
     },
     "inputWidgets": {},
     "nuid": "efc86dec-a8e2-48ce-80f4-6bbddfed8df8",
     "showTitle": false,
     "title": ""
    }
   },
   "outputs": [
    {
     "output_type": "display_data",
     "data": {
      "text/html": [
       "<div>\n",
       "<style scoped>\n",
       "    .dataframe tbody tr th:only-of-type {\n",
       "        vertical-align: middle;\n",
       "    }\n",
       "\n",
       "    .dataframe tbody tr th {\n",
       "        vertical-align: top;\n",
       "    }\n",
       "\n",
       "    .dataframe thead th {\n",
       "        text-align: right;\n",
       "    }\n",
       "</style>\n",
       "<table border=\"1\" class=\"dataframe\">\n",
       "  <thead>\n",
       "    <tr style=\"text-align: right;\">\n",
       "      <th></th>\n",
       "      <th>Ano do processo seletivo</th>\n",
       "      <th>Semestre do processo seletivo</th>\n",
       "      <th>Sexo</th>\n",
       "      <th>Data de Nascimento</th>\n",
       "      <th>UF de residência</th>\n",
       "      <th>Municipio de residência</th>\n",
       "      <th>Etnia/Cor</th>\n",
       "      <th>Pessoa com deficiência?</th>\n",
       "      <th>Tipo de escola no ensino médio</th>\n",
       "      <th>Ano conclusão ensino médio</th>\n",
       "      <th>Concluiu curso superior?</th>\n",
       "      <th>Professor rede pública ensino?</th>\n",
       "      <th>Nº de membros Grupo Familiar</th>\n",
       "      <th>Renda familiar mensal bruta</th>\n",
       "      <th>Renda mensal bruta per capita</th>\n",
       "      <th>Região grupo de preferência</th>\n",
       "      <th>UF</th>\n",
       "      <th>Cod.Microrregião</th>\n",
       "      <th>Microrregião</th>\n",
       "      <th>Cod.Mesorregião</th>\n",
       "      <th>Mesorregião</th>\n",
       "      <th>Conceito de curso do GP</th>\n",
       "      <th>Área do conhecimento</th>\n",
       "      <th>Subárea do conhecimento</th>\n",
       "      <th>Cod. do Grupo de preferência</th>\n",
       "      <th>Nota Corte Grupo Preferência</th>\n",
       "      <th>Opções de cursos da inscrição</th>\n",
       "      <th>Nome mantenedora</th>\n",
       "      <th>Natureza Jurídica Mantenedora</th>\n",
       "      <th>CNPJ da mantenedora</th>\n",
       "      <th>Código e-MEC da Mantenedora</th>\n",
       "      <th>Nome da IES</th>\n",
       "      <th>Código e-MEC da IES</th>\n",
       "      <th>Organização Acadêmica da IES</th>\n",
       "      <th>Município da IES</th>\n",
       "      <th>UF da IES</th>\n",
       "      <th>Nome do Local de oferta</th>\n",
       "      <th>Código do Local de Oferta</th>\n",
       "      <th>Munícipio do Local de Oferta</th>\n",
       "      <th>UF do Local de Oferta</th>\n",
       "      <th>Código do curso</th>\n",
       "      <th>Nome do curso</th>\n",
       "      <th>Turno</th>\n",
       "      <th>Grau</th>\n",
       "      <th>Conceito</th>\n",
       "      <th>Média nota Enem</th>\n",
       "      <th>Ano do Enem</th>\n",
       "      <th>Redação</th>\n",
       "      <th>Matemática e suas Tecnologias</th>\n",
       "      <th>Linguagens, Códigos e suas Tec</th>\n",
       "      <th>Ciências Natureza e suas Tec</th>\n",
       "      <th>Ciências Humanas e suas Tec</th>\n",
       "      <th>Situação Inscrição Fies</th>\n",
       "      <th>Percentual de financiamento</th>\n",
       "      <th>Semestre do financiamento</th>\n",
       "      <th>Qtde semestre financiado</th>\n",
       "    </tr>\n",
       "    <tr>\n",
       "      <th>ID do estudante</th>\n",
       "      <th></th>\n",
       "      <th></th>\n",
       "      <th></th>\n",
       "      <th></th>\n",
       "      <th></th>\n",
       "      <th></th>\n",
       "      <th></th>\n",
       "      <th></th>\n",
       "      <th></th>\n",
       "      <th></th>\n",
       "      <th></th>\n",
       "      <th></th>\n",
       "      <th></th>\n",
       "      <th></th>\n",
       "      <th></th>\n",
       "      <th></th>\n",
       "      <th></th>\n",
       "      <th></th>\n",
       "      <th></th>\n",
       "      <th></th>\n",
       "      <th></th>\n",
       "      <th></th>\n",
       "      <th></th>\n",
       "      <th></th>\n",
       "      <th></th>\n",
       "      <th></th>\n",
       "      <th></th>\n",
       "      <th></th>\n",
       "      <th></th>\n",
       "      <th></th>\n",
       "      <th></th>\n",
       "      <th></th>\n",
       "      <th></th>\n",
       "      <th></th>\n",
       "      <th></th>\n",
       "      <th></th>\n",
       "      <th></th>\n",
       "      <th></th>\n",
       "      <th></th>\n",
       "      <th></th>\n",
       "      <th></th>\n",
       "      <th></th>\n",
       "      <th></th>\n",
       "      <th></th>\n",
       "      <th></th>\n",
       "      <th></th>\n",
       "      <th></th>\n",
       "      <th></th>\n",
       "      <th></th>\n",
       "      <th></th>\n",
       "      <th></th>\n",
       "      <th></th>\n",
       "      <th></th>\n",
       "      <th></th>\n",
       "      <th></th>\n",
       "      <th></th>\n",
       "    </tr>\n",
       "  </thead>\n",
       "  <tbody>\n",
       "    <tr>\n",
       "      <th>281805657</th>\n",
       "      <td>2021</td>\n",
       "      <td>2</td>\n",
       "      <td>M</td>\n",
       "      <td>2000-05-15</td>\n",
       "      <td>PR</td>\n",
       "      <td>COLOMBO</td>\n",
       "      <td>PARDA</td>\n",
       "      <td>NÃO</td>\n",
       "      <td>SIM</td>\n",
       "      <td>2017</td>\n",
       "      <td>NÃO</td>\n",
       "      <td>NÃO</td>\n",
       "      <td>2</td>\n",
       "      <td>4253,03</td>\n",
       "      <td>1417,68</td>\n",
       "      <td>SUL</td>\n",
       "      <td>PARANÁ</td>\n",
       "      <td>41037</td>\n",
       "      <td>CURITIBA</td>\n",
       "      <td>4110</td>\n",
       "      <td>METROPOLITANA DE CURITIBA</td>\n",
       "      <td>5</td>\n",
       "      <td>CURSOS NAO PRIORITARIOS</td>\n",
       "      <td>DIREITO, COMÉRCIO EXTERIOR, BIBLIOTECONOMIA E ...</td>\n",
       "      <td>125824</td>\n",
       "      <td>620,72</td>\n",
       "      <td>1</td>\n",
       "      <td>ASSOCIACAO PARANAENSE DE CULTURA - APC</td>\n",
       "      <td>PESSOA JURÍDICA DE DIREITO PRIVADO - SEM FINS ...</td>\n",
       "      <td>76659820000151</td>\n",
       "      <td>10</td>\n",
       "      <td>PONTIFÍCIA UNIVERSIDADE CATÓLICA DO PARANÁ</td>\n",
       "      <td>10</td>\n",
       "      <td>UNIVERSIDADE</td>\n",
       "      <td>CURITIBA</td>\n",
       "      <td>PR</td>\n",
       "      <td>PUCPR - CAMPUS CURITIBA</td>\n",
       "      <td>657676</td>\n",
       "      <td>CURITIBA</td>\n",
       "      <td>PR</td>\n",
       "      <td>857</td>\n",
       "      <td>DIREITO</td>\n",
       "      <td>NOTURNO</td>\n",
       "      <td>SEMESTRAL</td>\n",
       "      <td>5</td>\n",
       "      <td>624,1</td>\n",
       "      <td>2020</td>\n",
       "      <td>640</td>\n",
       "      <td>675,4</td>\n",
       "      <td>643,2</td>\n",
       "      <td>539,7</td>\n",
       "      <td>622,2</td>\n",
       "      <td>NÃO CONTRATADO</td>\n",
       "      <td>None</td>\n",
       "      <td></td>\n",
       "      <td>NaN</td>\n",
       "    </tr>\n",
       "    <tr>\n",
       "      <th>281805657</th>\n",
       "      <td>2021</td>\n",
       "      <td>2</td>\n",
       "      <td>M</td>\n",
       "      <td>2000-05-15</td>\n",
       "      <td>PR</td>\n",
       "      <td>COLOMBO</td>\n",
       "      <td>PARDA</td>\n",
       "      <td>NÃO</td>\n",
       "      <td>SIM</td>\n",
       "      <td>2017</td>\n",
       "      <td>NÃO</td>\n",
       "      <td>NÃO</td>\n",
       "      <td>2</td>\n",
       "      <td>4253,03</td>\n",
       "      <td>1417,68</td>\n",
       "      <td>SUL</td>\n",
       "      <td>PARANÁ</td>\n",
       "      <td>41037</td>\n",
       "      <td>CURITIBA</td>\n",
       "      <td>4110</td>\n",
       "      <td>METROPOLITANA DE CURITIBA</td>\n",
       "      <td>5</td>\n",
       "      <td>CURSOS NAO PRIORITARIOS</td>\n",
       "      <td>DIREITO, COMÉRCIO EXTERIOR, BIBLIOTECONOMIA E ...</td>\n",
       "      <td>125824</td>\n",
       "      <td>620,72</td>\n",
       "      <td>2</td>\n",
       "      <td>ASSOCIACAO PARANAENSE DE CULTURA - APC</td>\n",
       "      <td>PESSOA JURÍDICA DE DIREITO PRIVADO - SEM FINS ...</td>\n",
       "      <td>76659820000151</td>\n",
       "      <td>10</td>\n",
       "      <td>PONTIFÍCIA UNIVERSIDADE CATÓLICA DO PARANÁ</td>\n",
       "      <td>10</td>\n",
       "      <td>UNIVERSIDADE</td>\n",
       "      <td>CURITIBA</td>\n",
       "      <td>PR</td>\n",
       "      <td>PUCPR - CAMPUS CURITIBA</td>\n",
       "      <td>657676</td>\n",
       "      <td>CURITIBA</td>\n",
       "      <td>PR</td>\n",
       "      <td>857</td>\n",
       "      <td>DIREITO</td>\n",
       "      <td>MATUTINO</td>\n",
       "      <td>SEMESTRAL</td>\n",
       "      <td>5</td>\n",
       "      <td>624,1</td>\n",
       "      <td>2020</td>\n",
       "      <td>640</td>\n",
       "      <td>675,4</td>\n",
       "      <td>643,2</td>\n",
       "      <td>539,7</td>\n",
       "      <td>622,2</td>\n",
       "      <td>NÃO CONTRATADO</td>\n",
       "      <td>None</td>\n",
       "      <td></td>\n",
       "      <td>NaN</td>\n",
       "    </tr>\n",
       "    <tr>\n",
       "      <th>351067941</th>\n",
       "      <td>2021</td>\n",
       "      <td>2</td>\n",
       "      <td>M</td>\n",
       "      <td>2094-07-10</td>\n",
       "      <td>PR</td>\n",
       "      <td>CURITIBA</td>\n",
       "      <td>BRANCA</td>\n",
       "      <td>NÃO</td>\n",
       "      <td>NÃO</td>\n",
       "      <td>2011</td>\n",
       "      <td>SIM</td>\n",
       "      <td>NÃO</td>\n",
       "      <td>0</td>\n",
       "      <td>None</td>\n",
       "      <td>1600</td>\n",
       "      <td>SUL</td>\n",
       "      <td>PARANÁ</td>\n",
       "      <td>41037</td>\n",
       "      <td>CURITIBA</td>\n",
       "      <td>4110</td>\n",
       "      <td>METROPOLITANA DE CURITIBA</td>\n",
       "      <td>5</td>\n",
       "      <td>CURSOS NAO PRIORITARIOS</td>\n",
       "      <td>DIREITO, COMÉRCIO EXTERIOR, BIBLIOTECONOMIA E ...</td>\n",
       "      <td>125824</td>\n",
       "      <td>620,72</td>\n",
       "      <td>2</td>\n",
       "      <td>ASSOCIACAO PARANAENSE DE CULTURA - APC</td>\n",
       "      <td>PESSOA JURÍDICA DE DIREITO PRIVADO - SEM FINS ...</td>\n",
       "      <td>76659820000151</td>\n",
       "      <td>10</td>\n",
       "      <td>PONTIFÍCIA UNIVERSIDADE CATÓLICA DO PARANÁ</td>\n",
       "      <td>10</td>\n",
       "      <td>UNIVERSIDADE</td>\n",
       "      <td>CURITIBA</td>\n",
       "      <td>PR</td>\n",
       "      <td>PUCPR - CAMPUS CURITIBA</td>\n",
       "      <td>657676</td>\n",
       "      <td>CURITIBA</td>\n",
       "      <td>PR</td>\n",
       "      <td>857</td>\n",
       "      <td>DIREITO</td>\n",
       "      <td>NOTURNO</td>\n",
       "      <td>SEMESTRAL</td>\n",
       "      <td>5</td>\n",
       "      <td>701,82</td>\n",
       "      <td>2011</td>\n",
       "      <td>900</td>\n",
       "      <td>758,1</td>\n",
       "      <td>646,9</td>\n",
       "      <td>598,4</td>\n",
       "      <td>605,7</td>\n",
       "      <td>PARTICIPACAO CANCELADA PELO CANDIDATO</td>\n",
       "      <td>None</td>\n",
       "      <td></td>\n",
       "      <td>NaN</td>\n",
       "    </tr>\n",
       "    <tr>\n",
       "      <th>205906170</th>\n",
       "      <td>2021</td>\n",
       "      <td>2</td>\n",
       "      <td>M</td>\n",
       "      <td>2089-09-25</td>\n",
       "      <td>PR</td>\n",
       "      <td>CURITIBA</td>\n",
       "      <td>BRANCA</td>\n",
       "      <td>NÃO</td>\n",
       "      <td>SIM</td>\n",
       "      <td>2004</td>\n",
       "      <td>NÃO</td>\n",
       "      <td>NÃO</td>\n",
       "      <td>1</td>\n",
       "      <td>1574,07</td>\n",
       "      <td>787,04</td>\n",
       "      <td>SUL</td>\n",
       "      <td>PARANÁ</td>\n",
       "      <td>41037</td>\n",
       "      <td>CURITIBA</td>\n",
       "      <td>4110</td>\n",
       "      <td>METROPOLITANA DE CURITIBA</td>\n",
       "      <td>5</td>\n",
       "      <td>CURSOS NAO PRIORITARIOS</td>\n",
       "      <td>DIREITO, COMÉRCIO EXTERIOR, BIBLIOTECONOMIA E ...</td>\n",
       "      <td>125824</td>\n",
       "      <td>620,72</td>\n",
       "      <td>2</td>\n",
       "      <td>ASSOCIACAO PARANAENSE DE CULTURA - APC</td>\n",
       "      <td>PESSOA JURÍDICA DE DIREITO PRIVADO - SEM FINS ...</td>\n",
       "      <td>76659820000151</td>\n",
       "      <td>10</td>\n",
       "      <td>PONTIFÍCIA UNIVERSIDADE CATÓLICA DO PARANÁ</td>\n",
       "      <td>10</td>\n",
       "      <td>UNIVERSIDADE</td>\n",
       "      <td>CURITIBA</td>\n",
       "      <td>PR</td>\n",
       "      <td>PUCPR - CAMPUS CURITIBA</td>\n",
       "      <td>657676</td>\n",
       "      <td>CURITIBA</td>\n",
       "      <td>PR</td>\n",
       "      <td>857</td>\n",
       "      <td>DIREITO</td>\n",
       "      <td>MATUTINO</td>\n",
       "      <td>SEMESTRAL</td>\n",
       "      <td>5</td>\n",
       "      <td>598,54</td>\n",
       "      <td>2020</td>\n",
       "      <td>540</td>\n",
       "      <td>609,8</td>\n",
       "      <td>610,7</td>\n",
       "      <td>586</td>\n",
       "      <td>646,2</td>\n",
       "      <td>OPÇÃO NÃO CONTRATADA</td>\n",
       "      <td>None</td>\n",
       "      <td>None</td>\n",
       "      <td>10.0</td>\n",
       "    </tr>\n",
       "    <tr>\n",
       "      <th>351067085</th>\n",
       "      <td>2021</td>\n",
       "      <td>2</td>\n",
       "      <td>F</td>\n",
       "      <td>2099-07-20</td>\n",
       "      <td>PR</td>\n",
       "      <td>PARANAGUÁ</td>\n",
       "      <td>BRANCA</td>\n",
       "      <td>NÃO</td>\n",
       "      <td>SIM</td>\n",
       "      <td>2016</td>\n",
       "      <td>NÃO</td>\n",
       "      <td>NÃO</td>\n",
       "      <td>2</td>\n",
       "      <td>2500</td>\n",
       "      <td>833,33</td>\n",
       "      <td>SUL</td>\n",
       "      <td>PARANÁ</td>\n",
       "      <td>41037</td>\n",
       "      <td>CURITIBA</td>\n",
       "      <td>4110</td>\n",
       "      <td>METROPOLITANA DE CURITIBA</td>\n",
       "      <td>5</td>\n",
       "      <td>CURSOS NAO PRIORITARIOS</td>\n",
       "      <td>DIREITO, COMÉRCIO EXTERIOR, BIBLIOTECONOMIA E ...</td>\n",
       "      <td>125824</td>\n",
       "      <td>620,72</td>\n",
       "      <td>1</td>\n",
       "      <td>ASSOCIACAO PARANAENSE DE CULTURA - APC</td>\n",
       "      <td>PESSOA JURÍDICA DE DIREITO PRIVADO - SEM FINS ...</td>\n",
       "      <td>76659820000151</td>\n",
       "      <td>10</td>\n",
       "      <td>PONTIFÍCIA UNIVERSIDADE CATÓLICA DO PARANÁ</td>\n",
       "      <td>10</td>\n",
       "      <td>UNIVERSIDADE</td>\n",
       "      <td>CURITIBA</td>\n",
       "      <td>PR</td>\n",
       "      <td>PUCPR - CAMPUS CURITIBA</td>\n",
       "      <td>657676</td>\n",
       "      <td>CURITIBA</td>\n",
       "      <td>PR</td>\n",
       "      <td>857</td>\n",
       "      <td>DIREITO</td>\n",
       "      <td>NOTURNO</td>\n",
       "      <td>SEMESTRAL</td>\n",
       "      <td>5</td>\n",
       "      <td>512,16</td>\n",
       "      <td>2017</td>\n",
       "      <td>680</td>\n",
       "      <td>408,6</td>\n",
       "      <td>499,8</td>\n",
       "      <td>484,5</td>\n",
       "      <td>487,9</td>\n",
       "      <td>NÃO CONTRATADO</td>\n",
       "      <td>None</td>\n",
       "      <td></td>\n",
       "      <td>NaN</td>\n",
       "    </tr>\n",
       "  </tbody>\n",
       "</table>\n",
       "</div>"
      ]
     },
     "metadata": {
      "application/vnd.databricks.v1+output": {
       "addedWidgets": {},
       "arguments": {},
       "data": "<div>\n<style scoped>\n    .dataframe tbody tr th:only-of-type {\n        vertical-align: middle;\n    }\n\n    .dataframe tbody tr th {\n        vertical-align: top;\n    }\n\n    .dataframe thead th {\n        text-align: right;\n    }\n</style>\n<table border=\"1\" class=\"dataframe\">\n  <thead>\n    <tr style=\"text-align: right;\">\n      <th></th>\n      <th>Ano do processo seletivo</th>\n      <th>Semestre do processo seletivo</th>\n      <th>Sexo</th>\n      <th>Data de Nascimento</th>\n      <th>UF de residência</th>\n      <th>Municipio de residência</th>\n      <th>Etnia/Cor</th>\n      <th>Pessoa com deficiência?</th>\n      <th>Tipo de escola no ensino médio</th>\n      <th>Ano conclusão ensino médio</th>\n      <th>Concluiu curso superior?</th>\n      <th>Professor rede pública ensino?</th>\n      <th>Nº de membros Grupo Familiar</th>\n      <th>Renda familiar mensal bruta</th>\n      <th>Renda mensal bruta per capita</th>\n      <th>Região grupo de preferência</th>\n      <th>UF</th>\n      <th>Cod.Microrregião</th>\n      <th>Microrregião</th>\n      <th>Cod.Mesorregião</th>\n      <th>Mesorregião</th>\n      <th>Conceito de curso do GP</th>\n      <th>Área do conhecimento</th>\n      <th>Subárea do conhecimento</th>\n      <th>Cod. do Grupo de preferência</th>\n      <th>Nota Corte Grupo Preferência</th>\n      <th>Opções de cursos da inscrição</th>\n      <th>Nome mantenedora</th>\n      <th>Natureza Jurídica Mantenedora</th>\n      <th>CNPJ da mantenedora</th>\n      <th>Código e-MEC da Mantenedora</th>\n      <th>Nome da IES</th>\n      <th>Código e-MEC da IES</th>\n      <th>Organização Acadêmica da IES</th>\n      <th>Município da IES</th>\n      <th>UF da IES</th>\n      <th>Nome do Local de oferta</th>\n      <th>Código do Local de Oferta</th>\n      <th>Munícipio do Local de Oferta</th>\n      <th>UF do Local de Oferta</th>\n      <th>Código do curso</th>\n      <th>Nome do curso</th>\n      <th>Turno</th>\n      <th>Grau</th>\n      <th>Conceito</th>\n      <th>Média nota Enem</th>\n      <th>Ano do Enem</th>\n      <th>Redação</th>\n      <th>Matemática e suas Tecnologias</th>\n      <th>Linguagens, Códigos e suas Tec</th>\n      <th>Ciências Natureza e suas Tec</th>\n      <th>Ciências Humanas e suas Tec</th>\n      <th>Situação Inscrição Fies</th>\n      <th>Percentual de financiamento</th>\n      <th>Semestre do financiamento</th>\n      <th>Qtde semestre financiado</th>\n    </tr>\n    <tr>\n      <th>ID do estudante</th>\n      <th></th>\n      <th></th>\n      <th></th>\n      <th></th>\n      <th></th>\n      <th></th>\n      <th></th>\n      <th></th>\n      <th></th>\n      <th></th>\n      <th></th>\n      <th></th>\n      <th></th>\n      <th></th>\n      <th></th>\n      <th></th>\n      <th></th>\n      <th></th>\n      <th></th>\n      <th></th>\n      <th></th>\n      <th></th>\n      <th></th>\n      <th></th>\n      <th></th>\n      <th></th>\n      <th></th>\n      <th></th>\n      <th></th>\n      <th></th>\n      <th></th>\n      <th></th>\n      <th></th>\n      <th></th>\n      <th></th>\n      <th></th>\n      <th></th>\n      <th></th>\n      <th></th>\n      <th></th>\n      <th></th>\n      <th></th>\n      <th></th>\n      <th></th>\n      <th></th>\n      <th></th>\n      <th></th>\n      <th></th>\n      <th></th>\n      <th></th>\n      <th></th>\n      <th></th>\n      <th></th>\n      <th></th>\n      <th></th>\n      <th></th>\n    </tr>\n  </thead>\n  <tbody>\n    <tr>\n      <th>281805657</th>\n      <td>2021</td>\n      <td>2</td>\n      <td>M</td>\n      <td>2000-05-15</td>\n      <td>PR</td>\n      <td>COLOMBO</td>\n      <td>PARDA</td>\n      <td>NÃO</td>\n      <td>SIM</td>\n      <td>2017</td>\n      <td>NÃO</td>\n      <td>NÃO</td>\n      <td>2</td>\n      <td>4253,03</td>\n      <td>1417,68</td>\n      <td>SUL</td>\n      <td>PARANÁ</td>\n      <td>41037</td>\n      <td>CURITIBA</td>\n      <td>4110</td>\n      <td>METROPOLITANA DE CURITIBA</td>\n      <td>5</td>\n      <td>CURSOS NAO PRIORITARIOS</td>\n      <td>DIREITO, COMÉRCIO EXTERIOR, BIBLIOTECONOMIA E ...</td>\n      <td>125824</td>\n      <td>620,72</td>\n      <td>1</td>\n      <td>ASSOCIACAO PARANAENSE DE CULTURA - APC</td>\n      <td>PESSOA JURÍDICA DE DIREITO PRIVADO - SEM FINS ...</td>\n      <td>76659820000151</td>\n      <td>10</td>\n      <td>PONTIFÍCIA UNIVERSIDADE CATÓLICA DO PARANÁ</td>\n      <td>10</td>\n      <td>UNIVERSIDADE</td>\n      <td>CURITIBA</td>\n      <td>PR</td>\n      <td>PUCPR - CAMPUS CURITIBA</td>\n      <td>657676</td>\n      <td>CURITIBA</td>\n      <td>PR</td>\n      <td>857</td>\n      <td>DIREITO</td>\n      <td>NOTURNO</td>\n      <td>SEMESTRAL</td>\n      <td>5</td>\n      <td>624,1</td>\n      <td>2020</td>\n      <td>640</td>\n      <td>675,4</td>\n      <td>643,2</td>\n      <td>539,7</td>\n      <td>622,2</td>\n      <td>NÃO CONTRATADO</td>\n      <td>None</td>\n      <td></td>\n      <td>NaN</td>\n    </tr>\n    <tr>\n      <th>281805657</th>\n      <td>2021</td>\n      <td>2</td>\n      <td>M</td>\n      <td>2000-05-15</td>\n      <td>PR</td>\n      <td>COLOMBO</td>\n      <td>PARDA</td>\n      <td>NÃO</td>\n      <td>SIM</td>\n      <td>2017</td>\n      <td>NÃO</td>\n      <td>NÃO</td>\n      <td>2</td>\n      <td>4253,03</td>\n      <td>1417,68</td>\n      <td>SUL</td>\n      <td>PARANÁ</td>\n      <td>41037</td>\n      <td>CURITIBA</td>\n      <td>4110</td>\n      <td>METROPOLITANA DE CURITIBA</td>\n      <td>5</td>\n      <td>CURSOS NAO PRIORITARIOS</td>\n      <td>DIREITO, COMÉRCIO EXTERIOR, BIBLIOTECONOMIA E ...</td>\n      <td>125824</td>\n      <td>620,72</td>\n      <td>2</td>\n      <td>ASSOCIACAO PARANAENSE DE CULTURA - APC</td>\n      <td>PESSOA JURÍDICA DE DIREITO PRIVADO - SEM FINS ...</td>\n      <td>76659820000151</td>\n      <td>10</td>\n      <td>PONTIFÍCIA UNIVERSIDADE CATÓLICA DO PARANÁ</td>\n      <td>10</td>\n      <td>UNIVERSIDADE</td>\n      <td>CURITIBA</td>\n      <td>PR</td>\n      <td>PUCPR - CAMPUS CURITIBA</td>\n      <td>657676</td>\n      <td>CURITIBA</td>\n      <td>PR</td>\n      <td>857</td>\n      <td>DIREITO</td>\n      <td>MATUTINO</td>\n      <td>SEMESTRAL</td>\n      <td>5</td>\n      <td>624,1</td>\n      <td>2020</td>\n      <td>640</td>\n      <td>675,4</td>\n      <td>643,2</td>\n      <td>539,7</td>\n      <td>622,2</td>\n      <td>NÃO CONTRATADO</td>\n      <td>None</td>\n      <td></td>\n      <td>NaN</td>\n    </tr>\n    <tr>\n      <th>351067941</th>\n      <td>2021</td>\n      <td>2</td>\n      <td>M</td>\n      <td>2094-07-10</td>\n      <td>PR</td>\n      <td>CURITIBA</td>\n      <td>BRANCA</td>\n      <td>NÃO</td>\n      <td>NÃO</td>\n      <td>2011</td>\n      <td>SIM</td>\n      <td>NÃO</td>\n      <td>0</td>\n      <td>None</td>\n      <td>1600</td>\n      <td>SUL</td>\n      <td>PARANÁ</td>\n      <td>41037</td>\n      <td>CURITIBA</td>\n      <td>4110</td>\n      <td>METROPOLITANA DE CURITIBA</td>\n      <td>5</td>\n      <td>CURSOS NAO PRIORITARIOS</td>\n      <td>DIREITO, COMÉRCIO EXTERIOR, BIBLIOTECONOMIA E ...</td>\n      <td>125824</td>\n      <td>620,72</td>\n      <td>2</td>\n      <td>ASSOCIACAO PARANAENSE DE CULTURA - APC</td>\n      <td>PESSOA JURÍDICA DE DIREITO PRIVADO - SEM FINS ...</td>\n      <td>76659820000151</td>\n      <td>10</td>\n      <td>PONTIFÍCIA UNIVERSIDADE CATÓLICA DO PARANÁ</td>\n      <td>10</td>\n      <td>UNIVERSIDADE</td>\n      <td>CURITIBA</td>\n      <td>PR</td>\n      <td>PUCPR - CAMPUS CURITIBA</td>\n      <td>657676</td>\n      <td>CURITIBA</td>\n      <td>PR</td>\n      <td>857</td>\n      <td>DIREITO</td>\n      <td>NOTURNO</td>\n      <td>SEMESTRAL</td>\n      <td>5</td>\n      <td>701,82</td>\n      <td>2011</td>\n      <td>900</td>\n      <td>758,1</td>\n      <td>646,9</td>\n      <td>598,4</td>\n      <td>605,7</td>\n      <td>PARTICIPACAO CANCELADA PELO CANDIDATO</td>\n      <td>None</td>\n      <td></td>\n      <td>NaN</td>\n    </tr>\n    <tr>\n      <th>205906170</th>\n      <td>2021</td>\n      <td>2</td>\n      <td>M</td>\n      <td>2089-09-25</td>\n      <td>PR</td>\n      <td>CURITIBA</td>\n      <td>BRANCA</td>\n      <td>NÃO</td>\n      <td>SIM</td>\n      <td>2004</td>\n      <td>NÃO</td>\n      <td>NÃO</td>\n      <td>1</td>\n      <td>1574,07</td>\n      <td>787,04</td>\n      <td>SUL</td>\n      <td>PARANÁ</td>\n      <td>41037</td>\n      <td>CURITIBA</td>\n      <td>4110</td>\n      <td>METROPOLITANA DE CURITIBA</td>\n      <td>5</td>\n      <td>CURSOS NAO PRIORITARIOS</td>\n      <td>DIREITO, COMÉRCIO EXTERIOR, BIBLIOTECONOMIA E ...</td>\n      <td>125824</td>\n      <td>620,72</td>\n      <td>2</td>\n      <td>ASSOCIACAO PARANAENSE DE CULTURA - APC</td>\n      <td>PESSOA JURÍDICA DE DIREITO PRIVADO - SEM FINS ...</td>\n      <td>76659820000151</td>\n      <td>10</td>\n      <td>PONTIFÍCIA UNIVERSIDADE CATÓLICA DO PARANÁ</td>\n      <td>10</td>\n      <td>UNIVERSIDADE</td>\n      <td>CURITIBA</td>\n      <td>PR</td>\n      <td>PUCPR - CAMPUS CURITIBA</td>\n      <td>657676</td>\n      <td>CURITIBA</td>\n      <td>PR</td>\n      <td>857</td>\n      <td>DIREITO</td>\n      <td>MATUTINO</td>\n      <td>SEMESTRAL</td>\n      <td>5</td>\n      <td>598,54</td>\n      <td>2020</td>\n      <td>540</td>\n      <td>609,8</td>\n      <td>610,7</td>\n      <td>586</td>\n      <td>646,2</td>\n      <td>OPÇÃO NÃO CONTRATADA</td>\n      <td>None</td>\n      <td>None</td>\n      <td>10.0</td>\n    </tr>\n    <tr>\n      <th>351067085</th>\n      <td>2021</td>\n      <td>2</td>\n      <td>F</td>\n      <td>2099-07-20</td>\n      <td>PR</td>\n      <td>PARANAGUÁ</td>\n      <td>BRANCA</td>\n      <td>NÃO</td>\n      <td>SIM</td>\n      <td>2016</td>\n      <td>NÃO</td>\n      <td>NÃO</td>\n      <td>2</td>\n      <td>2500</td>\n      <td>833,33</td>\n      <td>SUL</td>\n      <td>PARANÁ</td>\n      <td>41037</td>\n      <td>CURITIBA</td>\n      <td>4110</td>\n      <td>METROPOLITANA DE CURITIBA</td>\n      <td>5</td>\n      <td>CURSOS NAO PRIORITARIOS</td>\n      <td>DIREITO, COMÉRCIO EXTERIOR, BIBLIOTECONOMIA E ...</td>\n      <td>125824</td>\n      <td>620,72</td>\n      <td>1</td>\n      <td>ASSOCIACAO PARANAENSE DE CULTURA - APC</td>\n      <td>PESSOA JURÍDICA DE DIREITO PRIVADO - SEM FINS ...</td>\n      <td>76659820000151</td>\n      <td>10</td>\n      <td>PONTIFÍCIA UNIVERSIDADE CATÓLICA DO PARANÁ</td>\n      <td>10</td>\n      <td>UNIVERSIDADE</td>\n      <td>CURITIBA</td>\n      <td>PR</td>\n      <td>PUCPR - CAMPUS CURITIBA</td>\n      <td>657676</td>\n      <td>CURITIBA</td>\n      <td>PR</td>\n      <td>857</td>\n      <td>DIREITO</td>\n      <td>NOTURNO</td>\n      <td>SEMESTRAL</td>\n      <td>5</td>\n      <td>512,16</td>\n      <td>2017</td>\n      <td>680</td>\n      <td>408,6</td>\n      <td>499,8</td>\n      <td>484,5</td>\n      <td>487,9</td>\n      <td>NÃO CONTRATADO</td>\n      <td>None</td>\n      <td></td>\n      <td>NaN</td>\n    </tr>\n  </tbody>\n</table>\n</div>",
       "datasetInfos": [],
       "metadata": {},
       "removedWidgets": [],
       "textData": null,
       "type": "htmlSandbox"
      }
     },
     "output_type": "display_data"
    }
   ],
   "source": [
    "# carregando os dados em um dataframe e exibindo as primeiras linhas\n",
    "df = ps.read_csv(local_arquivo, sep=';', encoding='latin1', index_col='ID do estudante')\n",
    "df.head()"
   ]
  },
  {
   "cell_type": "markdown",
   "metadata": {
    "application/vnd.databricks.v1+cell": {
     "cellMetadata": {},
     "inputWidgets": {},
     "nuid": "878fa413-2d27-4704-9008-ae5c790cfca0",
     "showTitle": false,
     "title": ""
    }
   },
   "source": [
    "**Analisando base de dados**"
   ]
  },
  {
   "cell_type": "code",
   "execution_count": 0,
   "metadata": {
    "application/vnd.databricks.v1+cell": {
     "cellMetadata": {
      "byteLimit": 2048000,
      "rowLimit": 10000
     },
     "inputWidgets": {},
     "nuid": "9a8c5ae4-66a4-4014-a9f5-bdd406b15d97",
     "showTitle": false,
     "title": ""
    }
   },
   "outputs": [
    {
     "output_type": "stream",
     "name": "stdout",
     "output_type": "stream",
     "text": [
      "Out[10]: (237965, 56)"
     ]
    }
   ],
   "source": [
    "# consultando qtde de linhas e colunas\n",
    "df.shape"
   ]
  },
  {
   "cell_type": "code",
   "execution_count": 0,
   "metadata": {
    "application/vnd.databricks.v1+cell": {
     "cellMetadata": {
      "byteLimit": 2048000,
      "rowLimit": 10000
     },
     "inputWidgets": {},
     "nuid": "53b47031-b357-4323-b4a1-720f84c6ff97",
     "showTitle": false,
     "title": ""
    }
   },
   "outputs": [
    {
     "output_type": "stream",
     "name": "stdout",
     "output_type": "stream",
     "text": [
      "Out[11]: Ano do processo seletivo           int32\nSemestre do processo seletivo      int32\nSexo                              object\nData de Nascimento                object\nUF de residência                  object\nMunicipio de residência           object\nEtnia/Cor                         object\nPessoa com deficiência?           object\nTipo de escola no ensino médio    object\nAno conclusão ensino médio         int32\nConcluiu curso superior?          object\nProfessor rede pública ensino?    object\nNº de membros Grupo Familiar       int32\nRenda familiar mensal bruta       object\nRenda mensal bruta per capita     object\nRegião grupo de preferência       object\nUF                                object\nCod.Microrregião                   int32\nMicrorregião                      object\nCod.Mesorregião                    int32\nMesorregião                       object\nConceito de curso do GP           object\nÁrea do conhecimento              object\nSubárea do conhecimento           object\nCod. do Grupo de preferência       int32\nNota Corte Grupo Preferência      object\nOpções de cursos da inscrição      int32\nNome mantenedora                  object\nNatureza Jurídica Mantenedora     object\nCNPJ da mantenedora                int64\nCódigo e-MEC da Mantenedora        int32\nNome da IES                       object\nCódigo e-MEC da IES                int32\nOrganização Acadêmica da IES      object\nMunicípio da IES                  object\nUF da IES                         object\nNome do Local de oferta           object\nCódigo do Local de Oferta          int32\nMunícipio do Local de Oferta      object\nUF do Local de Oferta             object\nCódigo do curso                    int32\nNome do curso                     object\nTurno                             object\nGrau                              object\nConceito                          object\nMédia nota Enem                   object\nAno do Enem                        int32\nRedação                            int32\nMatemática e suas Tecnologias     object\nLinguagens, Códigos e suas Tec    object\nCiências Natureza e suas Tec      object\nCiências Humanas e suas Tec       object\nSituação Inscrição Fies           object\nPercentual de financiamento       object\nSemestre do financiamento         object\nQtde semestre financiado           int32\ndtype: object"
     ]
    }
   ],
   "source": [
    "# analisando os nomes das colunas e o seus tipos de dados\n",
    "df.dtypes"
   ]
  },
  {
   "cell_type": "code",
   "execution_count": 0,
   "metadata": {
    "application/vnd.databricks.v1+cell": {
     "cellMetadata": {
      "byteLimit": 2048000,
      "rowLimit": 10000
     },
     "inputWidgets": {},
     "nuid": "00d7bd85-66e4-452b-914d-89bc06bd3e62",
     "showTitle": false,
     "title": ""
    }
   },
   "outputs": [
    {
     "output_type": "stream",
     "name": "stdout",
     "output_type": "stream",
     "text": [
      "Out[12]: Ano do processo seletivo               0\nSemestre do processo seletivo          0\nSexo                                   0\nData de Nascimento                     0\nUF de residência                       0\nMunicipio de residência                0\nEtnia/Cor                              0\nPessoa com deficiência?                0\nTipo de escola no ensino médio         0\nAno conclusão ensino médio             0\nConcluiu curso superior?               0\nProfessor rede pública ensino?         0\nNº de membros Grupo Familiar           0\nRenda familiar mensal bruta        30275\nRenda mensal bruta per capita          0\nRegião grupo de preferência            0\nUF                                     0\nCod.Microrregião                       0\nMicrorregião                           0\nCod.Mesorregião                        0\nMesorregião                            0\nConceito de curso do GP                0\nÁrea do conhecimento                   0\nSubárea do conhecimento                0\nCod. do Grupo de preferência           0\nNota Corte Grupo Preferência           0\nOpções de cursos da inscrição          0\nNome mantenedora                       0\nNatureza Jurídica Mantenedora          0\nCNPJ da mantenedora                    0\nCódigo e-MEC da Mantenedora            0\nNome da IES                            0\nCódigo e-MEC da IES                    0\nOrganização Acadêmica da IES           0\nMunicípio da IES                       0\nUF da IES                              0\nNome do Local de oferta                0\nCódigo do Local de Oferta              0\nMunícipio do Local de Oferta           0\nUF do Local de Oferta                  0\nCódigo do curso                        0\nNome do curso                          0\nTurno                                  0\nGrau                                   0\nConceito                               0\nMédia nota Enem                        0\nAno do Enem                            0\nRedação                                0\nMatemática e suas Tecnologias          0\nLinguagens, Códigos e suas Tec         0\nCiências Natureza e suas Tec           0\nCiências Humanas e suas Tec            0\nSituação Inscrição Fies                0\nPercentual de financiamento       215522\nSemestre do financiamento          30065\nQtde semestre financiado          185457\ndtype: int64"
     ]
    }
   ],
   "source": [
    "# verificando o total de valores nulos no dataframe\n",
    "consulta_nulos = df.isnull().sum()\n",
    "consulta_nulos"
   ]
  },
  {
   "cell_type": "code",
   "execution_count": 0,
   "metadata": {
    "application/vnd.databricks.v1+cell": {
     "cellMetadata": {
      "byteLimit": 2048000,
      "rowLimit": 10000
     },
     "inputWidgets": {},
     "nuid": "f33d9cb3-a4da-4fa7-aab0-4b1c92f9ed17",
     "showTitle": false,
     "title": ""
    }
   },
   "outputs": [],
   "source": [
    "# excluindo os valores nulos do conjunto de dados\n",
    "df.dropna(inplace=True)"
   ]
  },
  {
   "cell_type": "code",
   "execution_count": 0,
   "metadata": {
    "application/vnd.databricks.v1+cell": {
     "cellMetadata": {
      "byteLimit": 2048000,
      "rowLimit": 10000
     },
     "inputWidgets": {},
     "nuid": "71b4de75-fa86-4afe-9a00-baf4056cc218",
     "showTitle": false,
     "title": ""
    }
   },
   "outputs": [
    {
     "output_type": "stream",
     "name": "stdout",
     "output_type": "stream",
     "text": [
      "Out[15]: Ano do processo seletivo          0\nSemestre do processo seletivo     0\nSexo                              0\nData de Nascimento                0\nUF de residência                  0\nMunicipio de residência           0\nEtnia/Cor                         0\nPessoa com deficiência?           0\nTipo de escola no ensino médio    0\nAno conclusão ensino médio        0\nConcluiu curso superior?          0\nProfessor rede pública ensino?    0\nNº de membros Grupo Familiar      0\nRenda familiar mensal bruta       0\nRenda mensal bruta per capita     0\nRegião grupo de preferência       0\nUF                                0\nCod.Microrregião                  0\nMicrorregião                      0\nCod.Mesorregião                   0\nMesorregião                       0\nConceito de curso do GP           0\nÁrea do conhecimento              0\nSubárea do conhecimento           0\nCod. do Grupo de preferência      0\nNota Corte Grupo Preferência      0\nOpções de cursos da inscrição     0\nNome mantenedora                  0\nNatureza Jurídica Mantenedora     0\nCNPJ da mantenedora               0\nCódigo e-MEC da Mantenedora       0\nNome da IES                       0\nCódigo e-MEC da IES               0\nOrganização Acadêmica da IES      0\nMunicípio da IES                  0\nUF da IES                         0\nNome do Local de oferta           0\nCódigo do Local de Oferta         0\nMunícipio do Local de Oferta      0\nUF do Local de Oferta             0\nCódigo do curso                   0\nNome do curso                     0\nTurno                             0\nGrau                              0\nConceito                          0\nMédia nota Enem                   0\nAno do Enem                       0\nRedação                           0\nMatemática e suas Tecnologias     0\nLinguagens, Códigos e suas Tec    0\nCiências Natureza e suas Tec      0\nCiências Humanas e suas Tec       0\nSituação Inscrição Fies           0\nPercentual de financiamento       0\nSemestre do financiamento         0\nQtde semestre financiado          0\ndtype: int64"
     ]
    }
   ],
   "source": [
    "# validando exclusão total de valores nulos no dataframe\n",
    "consulta_nulos = df.isnull().sum()\n",
    "consulta_nulos"
   ]
  },
  {
   "cell_type": "code",
   "execution_count": 0,
   "metadata": {
    "application/vnd.databricks.v1+cell": {
     "cellMetadata": {
      "byteLimit": 2048000,
      "rowLimit": 10000
     },
     "inputWidgets": {},
     "nuid": "dba12e58-d5ef-450f-9b79-2c144c88aa83",
     "showTitle": false,
     "title": ""
    }
   },
   "outputs": [
    {
     "output_type": "stream",
     "name": "stdout",
     "output_type": "stream",
     "text": [
      "Out[16]: (20874, 56)"
     ]
    }
   ],
   "source": [
    "# consultando novo tamanho do df após limpeza\n",
    "df.shape"
   ]
  },
  {
   "cell_type": "code",
   "execution_count": 0,
   "metadata": {
    "application/vnd.databricks.v1+cell": {
     "cellMetadata": {
      "byteLimit": 2048000,
      "rowLimit": 10000
     },
     "inputWidgets": {},
     "nuid": "a8093270-f2c4-4d44-9e7f-0001cc5625b5",
     "showTitle": false,
     "title": ""
    }
   },
   "outputs": [
    {
     "output_type": "stream",
     "name": "stdout",
     "output_type": "stream",
     "text": [
      "Out[17]: 0    F\n1    M\nName: Sexo, dtype: object"
     ]
    }
   ],
   "source": [
    "# consultando a proporção de homens e mulheres no dataset\n",
    "df['Sexo'].unique()"
   ]
  },
  {
   "cell_type": "code",
   "execution_count": 0,
   "metadata": {
    "application/vnd.databricks.v1+cell": {
     "cellMetadata": {
      "byteLimit": 2048000,
      "rowLimit": 10000
     },
     "inputWidgets": {},
     "nuid": "75a9da1a-2b1c-45bc-9f49-61151194546c",
     "showTitle": false,
     "title": ""
    }
   },
   "outputs": [
    {
     "output_type": "stream",
     "name": "stdout",
     "output_type": "stream",
     "text": [
      "Out[18]: F    14675\nM     6199\nName: Sexo, dtype: int64"
     ]
    }
   ],
   "source": [
    "# consultando a proporção de homens e mulheres\n",
    "df['Sexo'].value_counts()"
   ]
  },
  {
   "cell_type": "code",
   "execution_count": 0,
   "metadata": {
    "application/vnd.databricks.v1+cell": {
     "cellMetadata": {
      "byteLimit": 2048000,
      "rowLimit": 10000
     },
     "inputWidgets": {},
     "nuid": "d082edf7-3400-492f-85ee-9773a7c4afbd",
     "showTitle": false,
     "title": ""
    }
   },
   "outputs": [],
   "source": [
    "# realizando a mesma consulta de proporção de homens e mulheres com SQL\n",
    "proporcao = ps.sql('''\n",
    "                            SELECT Sexo, COUNT(Sexo) AS Total\n",
    "                             FROM {DF}\n",
    "                              GROUP BY Sexo\n",
    "                            ''', DF=df)"
   ]
  },
  {
   "cell_type": "code",
   "execution_count": 0,
   "metadata": {
    "application/vnd.databricks.v1+cell": {
     "cellMetadata": {
      "byteLimit": 2048000,
      "rowLimit": 10000
     },
     "inputWidgets": {},
     "nuid": "0f97dff8-bb12-48a7-999b-aafbc591f204",
     "showTitle": false,
     "title": ""
    }
   },
   "outputs": [
    {
     "output_type": "display_data",
     "data": {
      "text/html": [
       "<div>\n",
       "<style scoped>\n",
       "    .dataframe tbody tr th:only-of-type {\n",
       "        vertical-align: middle;\n",
       "    }\n",
       "\n",
       "    .dataframe tbody tr th {\n",
       "        vertical-align: top;\n",
       "    }\n",
       "\n",
       "    .dataframe thead th {\n",
       "        text-align: right;\n",
       "    }\n",
       "</style>\n",
       "<table border=\"1\" class=\"dataframe\">\n",
       "  <thead>\n",
       "    <tr style=\"text-align: right;\">\n",
       "      <th></th>\n",
       "      <th>Sexo</th>\n",
       "      <th>Total</th>\n",
       "    </tr>\n",
       "  </thead>\n",
       "  <tbody>\n",
       "    <tr>\n",
       "      <th>0</th>\n",
       "      <td>F</td>\n",
       "      <td>14675</td>\n",
       "    </tr>\n",
       "    <tr>\n",
       "      <th>1</th>\n",
       "      <td>M</td>\n",
       "      <td>6199</td>\n",
       "    </tr>\n",
       "  </tbody>\n",
       "</table>\n",
       "</div>"
      ]
     },
     "metadata": {
      "application/vnd.databricks.v1+output": {
       "addedWidgets": {},
       "arguments": {},
       "data": "<div>\n<style scoped>\n    .dataframe tbody tr th:only-of-type {\n        vertical-align: middle;\n    }\n\n    .dataframe tbody tr th {\n        vertical-align: top;\n    }\n\n    .dataframe thead th {\n        text-align: right;\n    }\n</style>\n<table border=\"1\" class=\"dataframe\">\n  <thead>\n    <tr style=\"text-align: right;\">\n      <th></th>\n      <th>Sexo</th>\n      <th>Total</th>\n    </tr>\n  </thead>\n  <tbody>\n    <tr>\n      <th>0</th>\n      <td>F</td>\n      <td>14675</td>\n    </tr>\n    <tr>\n      <th>1</th>\n      <td>M</td>\n      <td>6199</td>\n    </tr>\n  </tbody>\n</table>\n</div>",
       "datasetInfos": [],
       "metadata": {},
       "removedWidgets": [],
       "textData": null,
       "type": "htmlSandbox"
      }
     },
     "output_type": "display_data"
    }
   ],
   "source": [
    "# visualizando resultado da query\n",
    "proporcao"
   ]
  },
  {
   "cell_type": "code",
   "execution_count": 0,
   "metadata": {
    "application/vnd.databricks.v1+cell": {
     "cellMetadata": {
      "byteLimit": 2048000,
      "rowLimit": 10000
     },
     "inputWidgets": {},
     "nuid": "1ed103dc-24c0-41dd-b1f3-00c86264de9b",
     "showTitle": false,
     "title": ""
    }
   },
   "outputs": [
    {
     "output_type": "display_data",
     "data": {
      "text/html": [
       "<html>\n",
       "<head><meta charset=\"utf-8\" /></head>\n",
       "<body>\n",
       "    <div>            <script src=\"https://cdnjs.cloudflare.com/ajax/libs/mathjax/2.7.5/MathJax.js?config=TeX-AMS-MML_SVG\"></script><script type=\"text/javascript\">if (window.MathJax) {MathJax.Hub.Config({SVG: {font: \"STIX-Web\"}});}</script>                <script type=\"text/javascript\">window.PlotlyConfig = {MathJaxConfig: 'local'};</script>\n",
       "        <script src=\"https://cdn.plot.ly/plotly-2.9.0.min.js\"></script>                <div id=\"209db154-c08a-4c2a-bf52-c74cc51439c2\" class=\"plotly-graph-div\" style=\"height:100%; width:100%;\"></div>            <script type=\"text/javascript\">                                    window.PLOTLYENV=window.PLOTLYENV || {};                                    if (document.getElementById(\"209db154-c08a-4c2a-bf52-c74cc51439c2\")) {                    Plotly.newPlot(                        \"209db154-c08a-4c2a-bf52-c74cc51439c2\",                        [{\"alignmentgroup\":\"True\",\"hovertemplate\":\"Sexo=%{x}<br>Total=%{y}<extra></extra>\",\"legendgroup\":\"\",\"marker\":{\"color\":\"#636efa\",\"pattern\":{\"shape\":\"\"}},\"name\":\"\",\"offsetgroup\":\"\",\"orientation\":\"v\",\"showlegend\":false,\"textposition\":\"auto\",\"x\":[\"F\",\"M\"],\"xaxis\":\"x\",\"y\":[14675,6199],\"yaxis\":\"y\",\"type\":\"bar\"}],                        {\"template\":{\"data\":{\"bar\":[{\"error_x\":{\"color\":\"#2a3f5f\"},\"error_y\":{\"color\":\"#2a3f5f\"},\"marker\":{\"line\":{\"color\":\"#E5ECF6\",\"width\":0.5},\"pattern\":{\"fillmode\":\"overlay\",\"size\":10,\"solidity\":0.2}},\"type\":\"bar\"}],\"barpolar\":[{\"marker\":{\"line\":{\"color\":\"#E5ECF6\",\"width\":0.5},\"pattern\":{\"fillmode\":\"overlay\",\"size\":10,\"solidity\":0.2}},\"type\":\"barpolar\"}],\"carpet\":[{\"aaxis\":{\"endlinecolor\":\"#2a3f5f\",\"gridcolor\":\"white\",\"linecolor\":\"white\",\"minorgridcolor\":\"white\",\"startlinecolor\":\"#2a3f5f\"},\"baxis\":{\"endlinecolor\":\"#2a3f5f\",\"gridcolor\":\"white\",\"linecolor\":\"white\",\"minorgridcolor\":\"white\",\"startlinecolor\":\"#2a3f5f\"},\"type\":\"carpet\"}],\"choropleth\":[{\"colorbar\":{\"outlinewidth\":0,\"ticks\":\"\"},\"type\":\"choropleth\"}],\"contour\":[{\"colorbar\":{\"outlinewidth\":0,\"ticks\":\"\"},\"colorscale\":[[0.0,\"#0d0887\"],[0.1111111111111111,\"#46039f\"],[0.2222222222222222,\"#7201a8\"],[0.3333333333333333,\"#9c179e\"],[0.4444444444444444,\"#bd3786\"],[0.5555555555555556,\"#d8576b\"],[0.6666666666666666,\"#ed7953\"],[0.7777777777777778,\"#fb9f3a\"],[0.8888888888888888,\"#fdca26\"],[1.0,\"#f0f921\"]],\"type\":\"contour\"}],\"contourcarpet\":[{\"colorbar\":{\"outlinewidth\":0,\"ticks\":\"\"},\"type\":\"contourcarpet\"}],\"heatmap\":[{\"colorbar\":{\"outlinewidth\":0,\"ticks\":\"\"},\"colorscale\":[[0.0,\"#0d0887\"],[0.1111111111111111,\"#46039f\"],[0.2222222222222222,\"#7201a8\"],[0.3333333333333333,\"#9c179e\"],[0.4444444444444444,\"#bd3786\"],[0.5555555555555556,\"#d8576b\"],[0.6666666666666666,\"#ed7953\"],[0.7777777777777778,\"#fb9f3a\"],[0.8888888888888888,\"#fdca26\"],[1.0,\"#f0f921\"]],\"type\":\"heatmap\"}],\"heatmapgl\":[{\"colorbar\":{\"outlinewidth\":0,\"ticks\":\"\"},\"colorscale\":[[0.0,\"#0d0887\"],[0.1111111111111111,\"#46039f\"],[0.2222222222222222,\"#7201a8\"],[0.3333333333333333,\"#9c179e\"],[0.4444444444444444,\"#bd3786\"],[0.5555555555555556,\"#d8576b\"],[0.6666666666666666,\"#ed7953\"],[0.7777777777777778,\"#fb9f3a\"],[0.8888888888888888,\"#fdca26\"],[1.0,\"#f0f921\"]],\"type\":\"heatmapgl\"}],\"histogram\":[{\"marker\":{\"pattern\":{\"fillmode\":\"overlay\",\"size\":10,\"solidity\":0.2}},\"type\":\"histogram\"}],\"histogram2d\":[{\"colorbar\":{\"outlinewidth\":0,\"ticks\":\"\"},\"colorscale\":[[0.0,\"#0d0887\"],[0.1111111111111111,\"#46039f\"],[0.2222222222222222,\"#7201a8\"],[0.3333333333333333,\"#9c179e\"],[0.4444444444444444,\"#bd3786\"],[0.5555555555555556,\"#d8576b\"],[0.6666666666666666,\"#ed7953\"],[0.7777777777777778,\"#fb9f3a\"],[0.8888888888888888,\"#fdca26\"],[1.0,\"#f0f921\"]],\"type\":\"histogram2d\"}],\"histogram2dcontour\":[{\"colorbar\":{\"outlinewidth\":0,\"ticks\":\"\"},\"colorscale\":[[0.0,\"#0d0887\"],[0.1111111111111111,\"#46039f\"],[0.2222222222222222,\"#7201a8\"],[0.3333333333333333,\"#9c179e\"],[0.4444444444444444,\"#bd3786\"],[0.5555555555555556,\"#d8576b\"],[0.6666666666666666,\"#ed7953\"],[0.7777777777777778,\"#fb9f3a\"],[0.8888888888888888,\"#fdca26\"],[1.0,\"#f0f921\"]],\"type\":\"histogram2dcontour\"}],\"mesh3d\":[{\"colorbar\":{\"outlinewidth\":0,\"ticks\":\"\"},\"type\":\"mesh3d\"}],\"parcoords\":[{\"line\":{\"colorbar\":{\"outlinewidth\":0,\"ticks\":\"\"}},\"type\":\"parcoords\"}],\"pie\":[{\"automargin\":true,\"type\":\"pie\"}],\"scatter\":[{\"marker\":{\"colorbar\":{\"outlinewidth\":0,\"ticks\":\"\"}},\"type\":\"scatter\"}],\"scatter3d\":[{\"line\":{\"colorbar\":{\"outlinewidth\":0,\"ticks\":\"\"}},\"marker\":{\"colorbar\":{\"outlinewidth\":0,\"ticks\":\"\"}},\"type\":\"scatter3d\"}],\"scattercarpet\":[{\"marker\":{\"colorbar\":{\"outlinewidth\":0,\"ticks\":\"\"}},\"type\":\"scattercarpet\"}],\"scattergeo\":[{\"marker\":{\"colorbar\":{\"outlinewidth\":0,\"ticks\":\"\"}},\"type\":\"scattergeo\"}],\"scattergl\":[{\"marker\":{\"colorbar\":{\"outlinewidth\":0,\"ticks\":\"\"}},\"type\":\"scattergl\"}],\"scattermapbox\":[{\"marker\":{\"colorbar\":{\"outlinewidth\":0,\"ticks\":\"\"}},\"type\":\"scattermapbox\"}],\"scatterpolar\":[{\"marker\":{\"colorbar\":{\"outlinewidth\":0,\"ticks\":\"\"}},\"type\":\"scatterpolar\"}],\"scatterpolargl\":[{\"marker\":{\"colorbar\":{\"outlinewidth\":0,\"ticks\":\"\"}},\"type\":\"scatterpolargl\"}],\"scatterternary\":[{\"marker\":{\"colorbar\":{\"outlinewidth\":0,\"ticks\":\"\"}},\"type\":\"scatterternary\"}],\"surface\":[{\"colorbar\":{\"outlinewidth\":0,\"ticks\":\"\"},\"colorscale\":[[0.0,\"#0d0887\"],[0.1111111111111111,\"#46039f\"],[0.2222222222222222,\"#7201a8\"],[0.3333333333333333,\"#9c179e\"],[0.4444444444444444,\"#bd3786\"],[0.5555555555555556,\"#d8576b\"],[0.6666666666666666,\"#ed7953\"],[0.7777777777777778,\"#fb9f3a\"],[0.8888888888888888,\"#fdca26\"],[1.0,\"#f0f921\"]],\"type\":\"surface\"}],\"table\":[{\"cells\":{\"fill\":{\"color\":\"#EBF0F8\"},\"line\":{\"color\":\"white\"}},\"header\":{\"fill\":{\"color\":\"#C8D4E3\"},\"line\":{\"color\":\"white\"}},\"type\":\"table\"}]},\"layout\":{\"annotationdefaults\":{\"arrowcolor\":\"#2a3f5f\",\"arrowhead\":0,\"arrowwidth\":1},\"autotypenumbers\":\"strict\",\"coloraxis\":{\"colorbar\":{\"outlinewidth\":0,\"ticks\":\"\"}},\"colorscale\":{\"diverging\":[[0,\"#8e0152\"],[0.1,\"#c51b7d\"],[0.2,\"#de77ae\"],[0.3,\"#f1b6da\"],[0.4,\"#fde0ef\"],[0.5,\"#f7f7f7\"],[0.6,\"#e6f5d0\"],[0.7,\"#b8e186\"],[0.8,\"#7fbc41\"],[0.9,\"#4d9221\"],[1,\"#276419\"]],\"sequential\":[[0.0,\"#0d0887\"],[0.1111111111111111,\"#46039f\"],[0.2222222222222222,\"#7201a8\"],[0.3333333333333333,\"#9c179e\"],[0.4444444444444444,\"#bd3786\"],[0.5555555555555556,\"#d8576b\"],[0.6666666666666666,\"#ed7953\"],[0.7777777777777778,\"#fb9f3a\"],[0.8888888888888888,\"#fdca26\"],[1.0,\"#f0f921\"]],\"sequentialminus\":[[0.0,\"#0d0887\"],[0.1111111111111111,\"#46039f\"],[0.2222222222222222,\"#7201a8\"],[0.3333333333333333,\"#9c179e\"],[0.4444444444444444,\"#bd3786\"],[0.5555555555555556,\"#d8576b\"],[0.6666666666666666,\"#ed7953\"],[0.7777777777777778,\"#fb9f3a\"],[0.8888888888888888,\"#fdca26\"],[1.0,\"#f0f921\"]]},\"colorway\":[\"#636efa\",\"#EF553B\",\"#00cc96\",\"#ab63fa\",\"#FFA15A\",\"#19d3f3\",\"#FF6692\",\"#B6E880\",\"#FF97FF\",\"#FECB52\"],\"font\":{\"color\":\"#2a3f5f\"},\"geo\":{\"bgcolor\":\"white\",\"lakecolor\":\"white\",\"landcolor\":\"#E5ECF6\",\"showlakes\":true,\"showland\":true,\"subunitcolor\":\"white\"},\"hoverlabel\":{\"align\":\"left\"},\"hovermode\":\"closest\",\"mapbox\":{\"style\":\"light\"},\"paper_bgcolor\":\"white\",\"plot_bgcolor\":\"#E5ECF6\",\"polar\":{\"angularaxis\":{\"gridcolor\":\"white\",\"linecolor\":\"white\",\"ticks\":\"\"},\"bgcolor\":\"#E5ECF6\",\"radialaxis\":{\"gridcolor\":\"white\",\"linecolor\":\"white\",\"ticks\":\"\"}},\"scene\":{\"xaxis\":{\"backgroundcolor\":\"#E5ECF6\",\"gridcolor\":\"white\",\"gridwidth\":2,\"linecolor\":\"white\",\"showbackground\":true,\"ticks\":\"\",\"zerolinecolor\":\"white\"},\"yaxis\":{\"backgroundcolor\":\"#E5ECF6\",\"gridcolor\":\"white\",\"gridwidth\":2,\"linecolor\":\"white\",\"showbackground\":true,\"ticks\":\"\",\"zerolinecolor\":\"white\"},\"zaxis\":{\"backgroundcolor\":\"#E5ECF6\",\"gridcolor\":\"white\",\"gridwidth\":2,\"linecolor\":\"white\",\"showbackground\":true,\"ticks\":\"\",\"zerolinecolor\":\"white\"}},\"shapedefaults\":{\"line\":{\"color\":\"#2a3f5f\"}},\"ternary\":{\"aaxis\":{\"gridcolor\":\"white\",\"linecolor\":\"white\",\"ticks\":\"\"},\"baxis\":{\"gridcolor\":\"white\",\"linecolor\":\"white\",\"ticks\":\"\"},\"bgcolor\":\"#E5ECF6\",\"caxis\":{\"gridcolor\":\"white\",\"linecolor\":\"white\",\"ticks\":\"\"}},\"title\":{\"x\":0.05},\"xaxis\":{\"automargin\":true,\"gridcolor\":\"white\",\"linecolor\":\"white\",\"ticks\":\"\",\"title\":{\"standoff\":15},\"zerolinecolor\":\"white\",\"zerolinewidth\":2},\"yaxis\":{\"automargin\":true,\"gridcolor\":\"white\",\"linecolor\":\"white\",\"ticks\":\"\",\"title\":{\"standoff\":15},\"zerolinecolor\":\"white\",\"zerolinewidth\":2}}},\"xaxis\":{\"anchor\":\"y\",\"domain\":[0.0,1.0],\"title\":{\"text\":\"Sexo\"}},\"yaxis\":{\"anchor\":\"x\",\"domain\":[0.0,1.0],\"title\":{\"text\":\"Total\"}},\"legend\":{\"tracegroupgap\":0},\"margin\":{\"t\":60},\"barmode\":\"relative\"},                        {\"responsive\": true}                    )                };                            </script>        </div>\n",
       "</body>\n",
       "</html>"
      ]
     },
     "metadata": {
      "application/vnd.databricks.v1+output": {
       "addedWidgets": {},
       "arguments": {},
       "data": "<html>\n<head><meta charset=\"utf-8\" /></head>\n<body>\n    <div>            <script src=\"https://cdnjs.cloudflare.com/ajax/libs/mathjax/2.7.5/MathJax.js?config=TeX-AMS-MML_SVG\"></script><script type=\"text/javascript\">if (window.MathJax) {MathJax.Hub.Config({SVG: {font: \"STIX-Web\"}});}</script>                <script type=\"text/javascript\">window.PlotlyConfig = {MathJaxConfig: 'local'};</script>\n        <script src=\"https://cdn.plot.ly/plotly-2.9.0.min.js\"></script>                <div id=\"209db154-c08a-4c2a-bf52-c74cc51439c2\" class=\"plotly-graph-div\" style=\"height:100%; width:100%;\"></div>            <script type=\"text/javascript\">                                    window.PLOTLYENV=window.PLOTLYENV || {};                                    if (document.getElementById(\"209db154-c08a-4c2a-bf52-c74cc51439c2\")) {                    Plotly.newPlot(                        \"209db154-c08a-4c2a-bf52-c74cc51439c2\",                        [{\"alignmentgroup\":\"True\",\"hovertemplate\":\"Sexo=%{x}<br>Total=%{y}<extra></extra>\",\"legendgroup\":\"\",\"marker\":{\"color\":\"#636efa\",\"pattern\":{\"shape\":\"\"}},\"name\":\"\",\"offsetgroup\":\"\",\"orientation\":\"v\",\"showlegend\":false,\"textposition\":\"auto\",\"x\":[\"F\",\"M\"],\"xaxis\":\"x\",\"y\":[14675,6199],\"yaxis\":\"y\",\"type\":\"bar\"}],                        {\"template\":{\"data\":{\"bar\":[{\"error_x\":{\"color\":\"#2a3f5f\"},\"error_y\":{\"color\":\"#2a3f5f\"},\"marker\":{\"line\":{\"color\":\"#E5ECF6\",\"width\":0.5},\"pattern\":{\"fillmode\":\"overlay\",\"size\":10,\"solidity\":0.2}},\"type\":\"bar\"}],\"barpolar\":[{\"marker\":{\"line\":{\"color\":\"#E5ECF6\",\"width\":0.5},\"pattern\":{\"fillmode\":\"overlay\",\"size\":10,\"solidity\":0.2}},\"type\":\"barpolar\"}],\"carpet\":[{\"aaxis\":{\"endlinecolor\":\"#2a3f5f\",\"gridcolor\":\"white\",\"linecolor\":\"white\",\"minorgridcolor\":\"white\",\"startlinecolor\":\"#2a3f5f\"},\"baxis\":{\"endlinecolor\":\"#2a3f5f\",\"gridcolor\":\"white\",\"linecolor\":\"white\",\"minorgridcolor\":\"white\",\"startlinecolor\":\"#2a3f5f\"},\"type\":\"carpet\"}],\"choropleth\":[{\"colorbar\":{\"outlinewidth\":0,\"ticks\":\"\"},\"type\":\"choropleth\"}],\"contour\":[{\"colorbar\":{\"outlinewidth\":0,\"ticks\":\"\"},\"colorscale\":[[0.0,\"#0d0887\"],[0.1111111111111111,\"#46039f\"],[0.2222222222222222,\"#7201a8\"],[0.3333333333333333,\"#9c179e\"],[0.4444444444444444,\"#bd3786\"],[0.5555555555555556,\"#d8576b\"],[0.6666666666666666,\"#ed7953\"],[0.7777777777777778,\"#fb9f3a\"],[0.8888888888888888,\"#fdca26\"],[1.0,\"#f0f921\"]],\"type\":\"contour\"}],\"contourcarpet\":[{\"colorbar\":{\"outlinewidth\":0,\"ticks\":\"\"},\"type\":\"contourcarpet\"}],\"heatmap\":[{\"colorbar\":{\"outlinewidth\":0,\"ticks\":\"\"},\"colorscale\":[[0.0,\"#0d0887\"],[0.1111111111111111,\"#46039f\"],[0.2222222222222222,\"#7201a8\"],[0.3333333333333333,\"#9c179e\"],[0.4444444444444444,\"#bd3786\"],[0.5555555555555556,\"#d8576b\"],[0.6666666666666666,\"#ed7953\"],[0.7777777777777778,\"#fb9f3a\"],[0.8888888888888888,\"#fdca26\"],[1.0,\"#f0f921\"]],\"type\":\"heatmap\"}],\"heatmapgl\":[{\"colorbar\":{\"outlinewidth\":0,\"ticks\":\"\"},\"colorscale\":[[0.0,\"#0d0887\"],[0.1111111111111111,\"#46039f\"],[0.2222222222222222,\"#7201a8\"],[0.3333333333333333,\"#9c179e\"],[0.4444444444444444,\"#bd3786\"],[0.5555555555555556,\"#d8576b\"],[0.6666666666666666,\"#ed7953\"],[0.7777777777777778,\"#fb9f3a\"],[0.8888888888888888,\"#fdca26\"],[1.0,\"#f0f921\"]],\"type\":\"heatmapgl\"}],\"histogram\":[{\"marker\":{\"pattern\":{\"fillmode\":\"overlay\",\"size\":10,\"solidity\":0.2}},\"type\":\"histogram\"}],\"histogram2d\":[{\"colorbar\":{\"outlinewidth\":0,\"ticks\":\"\"},\"colorscale\":[[0.0,\"#0d0887\"],[0.1111111111111111,\"#46039f\"],[0.2222222222222222,\"#7201a8\"],[0.3333333333333333,\"#9c179e\"],[0.4444444444444444,\"#bd3786\"],[0.5555555555555556,\"#d8576b\"],[0.6666666666666666,\"#ed7953\"],[0.7777777777777778,\"#fb9f3a\"],[0.8888888888888888,\"#fdca26\"],[1.0,\"#f0f921\"]],\"type\":\"histogram2d\"}],\"histogram2dcontour\":[{\"colorbar\":{\"outlinewidth\":0,\"ticks\":\"\"},\"colorscale\":[[0.0,\"#0d0887\"],[0.1111111111111111,\"#46039f\"],[0.2222222222222222,\"#7201a8\"],[0.3333333333333333,\"#9c179e\"],[0.4444444444444444,\"#bd3786\"],[0.5555555555555556,\"#d8576b\"],[0.6666666666666666,\"#ed7953\"],[0.7777777777777778,\"#fb9f3a\"],[0.8888888888888888,\"#fdca26\"],[1.0,\"#f0f921\"]],\"type\":\"histogram2dcontour\"}],\"mesh3d\":[{\"colorbar\":{\"outlinewidth\":0,\"ticks\":\"\"},\"type\":\"mesh3d\"}],\"parcoords\":[{\"line\":{\"colorbar\":{\"outlinewidth\":0,\"ticks\":\"\"}},\"type\":\"parcoords\"}],\"pie\":[{\"automargin\":true,\"type\":\"pie\"}],\"scatter\":[{\"marker\":{\"colorbar\":{\"outlinewidth\":0,\"ticks\":\"\"}},\"type\":\"scatter\"}],\"scatter3d\":[{\"line\":{\"colorbar\":{\"outlinewidth\":0,\"ticks\":\"\"}},\"marker\":{\"colorbar\":{\"outlinewidth\":0,\"ticks\":\"\"}},\"type\":\"scatter3d\"}],\"scattercarpet\":[{\"marker\":{\"colorbar\":{\"outlinewidth\":0,\"ticks\":\"\"}},\"type\":\"scattercarpet\"}],\"scattergeo\":[{\"marker\":{\"colorbar\":{\"outlinewidth\":0,\"ticks\":\"\"}},\"type\":\"scattergeo\"}],\"scattergl\":[{\"marker\":{\"colorbar\":{\"outlinewidth\":0,\"ticks\":\"\"}},\"type\":\"scattergl\"}],\"scattermapbox\":[{\"marker\":{\"colorbar\":{\"outlinewidth\":0,\"ticks\":\"\"}},\"type\":\"scattermapbox\"}],\"scatterpolar\":[{\"marker\":{\"colorbar\":{\"outlinewidth\":0,\"ticks\":\"\"}},\"type\":\"scatterpolar\"}],\"scatterpolargl\":[{\"marker\":{\"colorbar\":{\"outlinewidth\":0,\"ticks\":\"\"}},\"type\":\"scatterpolargl\"}],\"scatterternary\":[{\"marker\":{\"colorbar\":{\"outlinewidth\":0,\"ticks\":\"\"}},\"type\":\"scatterternary\"}],\"surface\":[{\"colorbar\":{\"outlinewidth\":0,\"ticks\":\"\"},\"colorscale\":[[0.0,\"#0d0887\"],[0.1111111111111111,\"#46039f\"],[0.2222222222222222,\"#7201a8\"],[0.3333333333333333,\"#9c179e\"],[0.4444444444444444,\"#bd3786\"],[0.5555555555555556,\"#d8576b\"],[0.6666666666666666,\"#ed7953\"],[0.7777777777777778,\"#fb9f3a\"],[0.8888888888888888,\"#fdca26\"],[1.0,\"#f0f921\"]],\"type\":\"surface\"}],\"table\":[{\"cells\":{\"fill\":{\"color\":\"#EBF0F8\"},\"line\":{\"color\":\"white\"}},\"header\":{\"fill\":{\"color\":\"#C8D4E3\"},\"line\":{\"color\":\"white\"}},\"type\":\"table\"}]},\"layout\":{\"annotationdefaults\":{\"arrowcolor\":\"#2a3f5f\",\"arrowhead\":0,\"arrowwidth\":1},\"autotypenumbers\":\"strict\",\"coloraxis\":{\"colorbar\":{\"outlinewidth\":0,\"ticks\":\"\"}},\"colorscale\":{\"diverging\":[[0,\"#8e0152\"],[0.1,\"#c51b7d\"],[0.2,\"#de77ae\"],[0.3,\"#f1b6da\"],[0.4,\"#fde0ef\"],[0.5,\"#f7f7f7\"],[0.6,\"#e6f5d0\"],[0.7,\"#b8e186\"],[0.8,\"#7fbc41\"],[0.9,\"#4d9221\"],[1,\"#276419\"]],\"sequential\":[[0.0,\"#0d0887\"],[0.1111111111111111,\"#46039f\"],[0.2222222222222222,\"#7201a8\"],[0.3333333333333333,\"#9c179e\"],[0.4444444444444444,\"#bd3786\"],[0.5555555555555556,\"#d8576b\"],[0.6666666666666666,\"#ed7953\"],[0.7777777777777778,\"#fb9f3a\"],[0.8888888888888888,\"#fdca26\"],[1.0,\"#f0f921\"]],\"sequentialminus\":[[0.0,\"#0d0887\"],[0.1111111111111111,\"#46039f\"],[0.2222222222222222,\"#7201a8\"],[0.3333333333333333,\"#9c179e\"],[0.4444444444444444,\"#bd3786\"],[0.5555555555555556,\"#d8576b\"],[0.6666666666666666,\"#ed7953\"],[0.7777777777777778,\"#fb9f3a\"],[0.8888888888888888,\"#fdca26\"],[1.0,\"#f0f921\"]]},\"colorway\":[\"#636efa\",\"#EF553B\",\"#00cc96\",\"#ab63fa\",\"#FFA15A\",\"#19d3f3\",\"#FF6692\",\"#B6E880\",\"#FF97FF\",\"#FECB52\"],\"font\":{\"color\":\"#2a3f5f\"},\"geo\":{\"bgcolor\":\"white\",\"lakecolor\":\"white\",\"landcolor\":\"#E5ECF6\",\"showlakes\":true,\"showland\":true,\"subunitcolor\":\"white\"},\"hoverlabel\":{\"align\":\"left\"},\"hovermode\":\"closest\",\"mapbox\":{\"style\":\"light\"},\"paper_bgcolor\":\"white\",\"plot_bgcolor\":\"#E5ECF6\",\"polar\":{\"angularaxis\":{\"gridcolor\":\"white\",\"linecolor\":\"white\",\"ticks\":\"\"},\"bgcolor\":\"#E5ECF6\",\"radialaxis\":{\"gridcolor\":\"white\",\"linecolor\":\"white\",\"ticks\":\"\"}},\"scene\":{\"xaxis\":{\"backgroundcolor\":\"#E5ECF6\",\"gridcolor\":\"white\",\"gridwidth\":2,\"linecolor\":\"white\",\"showbackground\":true,\"ticks\":\"\",\"zerolinecolor\":\"white\"},\"yaxis\":{\"backgroundcolor\":\"#E5ECF6\",\"gridcolor\":\"white\",\"gridwidth\":2,\"linecolor\":\"white\",\"showbackground\":true,\"ticks\":\"\",\"zerolinecolor\":\"white\"},\"zaxis\":{\"backgroundcolor\":\"#E5ECF6\",\"gridcolor\":\"white\",\"gridwidth\":2,\"linecolor\":\"white\",\"showbackground\":true,\"ticks\":\"\",\"zerolinecolor\":\"white\"}},\"shapedefaults\":{\"line\":{\"color\":\"#2a3f5f\"}},\"ternary\":{\"aaxis\":{\"gridcolor\":\"white\",\"linecolor\":\"white\",\"ticks\":\"\"},\"baxis\":{\"gridcolor\":\"white\",\"linecolor\":\"white\",\"ticks\":\"\"},\"bgcolor\":\"#E5ECF6\",\"caxis\":{\"gridcolor\":\"white\",\"linecolor\":\"white\",\"ticks\":\"\"}},\"title\":{\"x\":0.05},\"xaxis\":{\"automargin\":true,\"gridcolor\":\"white\",\"linecolor\":\"white\",\"ticks\":\"\",\"title\":{\"standoff\":15},\"zerolinecolor\":\"white\",\"zerolinewidth\":2},\"yaxis\":{\"automargin\":true,\"gridcolor\":\"white\",\"linecolor\":\"white\",\"ticks\":\"\",\"title\":{\"standoff\":15},\"zerolinecolor\":\"white\",\"zerolinewidth\":2}}},\"xaxis\":{\"anchor\":\"y\",\"domain\":[0.0,1.0],\"title\":{\"text\":\"Sexo\"}},\"yaxis\":{\"anchor\":\"x\",\"domain\":[0.0,1.0],\"title\":{\"text\":\"Total\"}},\"legend\":{\"tracegroupgap\":0},\"margin\":{\"t\":60},\"barmode\":\"relative\"},                        {\"responsive\": true}                    )                };                            </script>        </div>\n</body>\n</html>",
       "datasetInfos": [],
       "metadata": {},
       "removedWidgets": [],
       "textData": null,
       "type": "htmlSandbox"
      }
     },
     "output_type": "display_data"
    }
   ],
   "source": [
    "# criando um gráfico de barras\n",
    "proporcao.plot.bar(x='Sexo', y='Total')"
   ]
  },
  {
   "cell_type": "code",
   "execution_count": 0,
   "metadata": {
    "application/vnd.databricks.v1+cell": {
     "cellMetadata": {
      "byteLimit": 2048000,
      "rowLimit": 10000
     },
     "inputWidgets": {},
     "nuid": "0cc6d09c-a606-43b1-82e0-b856fa6489c5",
     "showTitle": false,
     "title": ""
    }
   },
   "outputs": [
    {
     "output_type": "display_data",
     "data": {
      "text/html": [
       "<div>\n",
       "<style scoped>\n",
       "    .dataframe tbody tr th:only-of-type {\n",
       "        vertical-align: middle;\n",
       "    }\n",
       "\n",
       "    .dataframe tbody tr th {\n",
       "        vertical-align: top;\n",
       "    }\n",
       "\n",
       "    .dataframe thead th {\n",
       "        text-align: right;\n",
       "    }\n",
       "</style>\n",
       "<table border=\"1\" class=\"dataframe\">\n",
       "  <thead>\n",
       "    <tr style=\"text-align: right;\">\n",
       "      <th></th>\n",
       "      <th>Redação</th>\n",
       "      <th>Matemática e suas Tecnologias</th>\n",
       "      <th>Linguagens, Códigos e suas Tec</th>\n",
       "      <th>Ciências Natureza e suas Tec</th>\n",
       "      <th>Ciências Humanas e suas Tec</th>\n",
       "    </tr>\n",
       "    <tr>\n",
       "      <th>ID do estudante</th>\n",
       "      <th></th>\n",
       "      <th></th>\n",
       "      <th></th>\n",
       "      <th></th>\n",
       "      <th></th>\n",
       "    </tr>\n",
       "  </thead>\n",
       "  <tbody>\n",
       "    <tr>\n",
       "      <th>351412708</th>\n",
       "      <td>840</td>\n",
       "      <td>744,7</td>\n",
       "      <td>644,9</td>\n",
       "      <td>685,2</td>\n",
       "      <td>726,5</td>\n",
       "    </tr>\n",
       "    <tr>\n",
       "      <th>205956741</th>\n",
       "      <td>700</td>\n",
       "      <td>599,6</td>\n",
       "      <td>546,5</td>\n",
       "      <td>469,7</td>\n",
       "      <td>493,4</td>\n",
       "    </tr>\n",
       "    <tr>\n",
       "      <th>205958155</th>\n",
       "      <td>800</td>\n",
       "      <td>672,8</td>\n",
       "      <td>425,5</td>\n",
       "      <td>606,3</td>\n",
       "      <td>703,3</td>\n",
       "    </tr>\n",
       "    <tr>\n",
       "      <th>353015727</th>\n",
       "      <td>620</td>\n",
       "      <td>639,7</td>\n",
       "      <td>566,9</td>\n",
       "      <td>604,1</td>\n",
       "      <td>667,6</td>\n",
       "    </tr>\n",
       "    <tr>\n",
       "      <th>351073514</th>\n",
       "      <td>940</td>\n",
       "      <td>818,4</td>\n",
       "      <td>640,8</td>\n",
       "      <td>676,5</td>\n",
       "      <td>666,6</td>\n",
       "    </tr>\n",
       "  </tbody>\n",
       "</table>\n",
       "</div>"
      ]
     },
     "metadata": {
      "application/vnd.databricks.v1+output": {
       "addedWidgets": {},
       "arguments": {},
       "data": "<div>\n<style scoped>\n    .dataframe tbody tr th:only-of-type {\n        vertical-align: middle;\n    }\n\n    .dataframe tbody tr th {\n        vertical-align: top;\n    }\n\n    .dataframe thead th {\n        text-align: right;\n    }\n</style>\n<table border=\"1\" class=\"dataframe\">\n  <thead>\n    <tr style=\"text-align: right;\">\n      <th></th>\n      <th>Redação</th>\n      <th>Matemática e suas Tecnologias</th>\n      <th>Linguagens, Códigos e suas Tec</th>\n      <th>Ciências Natureza e suas Tec</th>\n      <th>Ciências Humanas e suas Tec</th>\n    </tr>\n    <tr>\n      <th>ID do estudante</th>\n      <th></th>\n      <th></th>\n      <th></th>\n      <th></th>\n      <th></th>\n    </tr>\n  </thead>\n  <tbody>\n    <tr>\n      <th>351412708</th>\n      <td>840</td>\n      <td>744,7</td>\n      <td>644,9</td>\n      <td>685,2</td>\n      <td>726,5</td>\n    </tr>\n    <tr>\n      <th>205956741</th>\n      <td>700</td>\n      <td>599,6</td>\n      <td>546,5</td>\n      <td>469,7</td>\n      <td>493,4</td>\n    </tr>\n    <tr>\n      <th>205958155</th>\n      <td>800</td>\n      <td>672,8</td>\n      <td>425,5</td>\n      <td>606,3</td>\n      <td>703,3</td>\n    </tr>\n    <tr>\n      <th>353015727</th>\n      <td>620</td>\n      <td>639,7</td>\n      <td>566,9</td>\n      <td>604,1</td>\n      <td>667,6</td>\n    </tr>\n    <tr>\n      <th>351073514</th>\n      <td>940</td>\n      <td>818,4</td>\n      <td>640,8</td>\n      <td>676,5</td>\n      <td>666,6</td>\n    </tr>\n  </tbody>\n</table>\n</div>",
       "datasetInfos": [],
       "metadata": {},
       "removedWidgets": [],
       "textData": null,
       "type": "htmlSandbox"
      }
     },
     "output_type": "display_data"
    }
   ],
   "source": [
    "# criando novo dataframe com os nomes das disciplinas\n",
    "df_disciplinas = df[['Redação', 'Matemática e suas Tecnologias', 'Linguagens, Códigos e suas Tec', 'Ciências Natureza e suas Tec', 'Ciências Humanas e suas Tec']]\n",
    "df_disciplinas.head()"
   ]
  },
  {
   "cell_type": "code",
   "execution_count": 0,
   "metadata": {
    "application/vnd.databricks.v1+cell": {
     "cellMetadata": {
      "byteLimit": 2048000,
      "rowLimit": 10000
     },
     "inputWidgets": {},
     "nuid": "9c0d7af2-1c30-4237-a6ed-1409d6dd264b",
     "showTitle": false,
     "title": ""
    }
   },
   "outputs": [
    {
     "output_type": "stream",
     "name": "stdout",
     "output_type": "stream",
     "text": [
      "Out[24]: Redação                            int32\nMatemática e suas Tecnologias     object\nLinguagens, Códigos e suas Tec    object\nCiências Natureza e suas Tec      object\nCiências Humanas e suas Tec       object\ndtype: object"
     ]
    }
   ],
   "source": [
    "# avaliando os tipos de dados para as colunas de interesse\n",
    "df_disciplinas.dtypes"
   ]
  },
  {
   "cell_type": "code",
   "execution_count": 0,
   "metadata": {
    "application/vnd.databricks.v1+cell": {
     "cellMetadata": {
      "byteLimit": 2048000,
      "rowLimit": 10000
     },
     "inputWidgets": {},
     "nuid": "076a9c63-696f-4c20-aa2f-690438ef28cb",
     "showTitle": false,
     "title": ""
    }
   },
   "outputs": [],
   "source": [
    "# realizando duas operações na coluna:\n",
    "# substituindo todas as vírgulas por pontos e em seguida converte os valores para float\n",
    "df_disciplinas['Matemática e suas Tecnologias'] = df_disciplinas['Matemática e suas Tecnologias'].apply(lambda x: x.replace(',', '.')).astype(float)"
   ]
  },
  {
   "cell_type": "code",
   "execution_count": 0,
   "metadata": {
    "application/vnd.databricks.v1+cell": {
     "cellMetadata": {
      "byteLimit": 2048000,
      "rowLimit": 10000
     },
     "inputWidgets": {},
     "nuid": "23a62b7c-5a2e-4489-b48a-78639cadcfec",
     "showTitle": false,
     "title": ""
    }
   },
   "outputs": [
    {
     "output_type": "stream",
     "name": "stdout",
     "output_type": "stream",
     "text": [
      "Out[26]: Redação                             int32\nMatemática e suas Tecnologias     float64\nLinguagens, Códigos e suas Tec     object\nCiências Natureza e suas Tec       object\nCiências Humanas e suas Tec        object\ndtype: object"
     ]
    }
   ],
   "source": [
    "# avaliando os tipos de dados\n",
    "df_disciplinas.dtypes"
   ]
  },
  {
   "cell_type": "code",
   "execution_count": 0,
   "metadata": {
    "application/vnd.databricks.v1+cell": {
     "cellMetadata": {
      "byteLimit": 2048000,
      "rowLimit": 10000
     },
     "inputWidgets": {},
     "nuid": "6ebdc0c9-e747-4f10-b4b2-3691e6a56a7a",
     "showTitle": false,
     "title": ""
    }
   },
   "outputs": [],
   "source": [
    "# realizando duas operações na coluna:\n",
    "# substituindo todas as vírgulas por pontos e em seguida converte os valores para float\n",
    "df_disciplinas['Linguagens, Códigos e suas Tec'] = df_disciplinas['Linguagens, Códigos e suas Tec'].apply(lambda x: x.replace(',', '.')).astype(float)\n",
    "df_disciplinas['Ciências Natureza e suas Tec'] = df_disciplinas['Ciências Natureza e suas Tec'].apply(lambda x: x.replace(',', '.')).astype(float)\n",
    "df_disciplinas['Ciências Humanas e suas Tec'] = df_disciplinas['Ciências Humanas e suas Tec'].apply(lambda x: x.replace(',', '.')).astype(float)"
   ]
  },
  {
   "cell_type": "code",
   "execution_count": 0,
   "metadata": {
    "application/vnd.databricks.v1+cell": {
     "cellMetadata": {
      "byteLimit": 2048000,
      "rowLimit": 10000
     },
     "inputWidgets": {},
     "nuid": "1829ec5d-b954-4a29-a61b-6af86a53c504",
     "showTitle": false,
     "title": ""
    }
   },
   "outputs": [
    {
     "output_type": "stream",
     "name": "stdout",
     "output_type": "stream",
     "text": [
      "Out[28]: Redação                             int32\nMatemática e suas Tecnologias     float64\nLinguagens, Códigos e suas Tec    float64\nCiências Natureza e suas Tec      float64\nCiências Humanas e suas Tec       float64\ndtype: object"
     ]
    }
   ],
   "source": [
    "# validando alterações no tipo de dados em cada coluna\n",
    "df_disciplinas.dtypes"
   ]
  },
  {
   "cell_type": "code",
   "execution_count": 0,
   "metadata": {
    "application/vnd.databricks.v1+cell": {
     "cellMetadata": {
      "byteLimit": 2048000,
      "rowLimit": 10000
     },
     "inputWidgets": {},
     "nuid": "56d533b7-30c9-480c-9d64-4b7e485608c6",
     "showTitle": false,
     "title": ""
    }
   },
   "outputs": [
    {
     "output_type": "stream",
     "name": "stderr",
     "output_type": "stream",
     "text": [
      "/databricks/spark/python/pyspark/sql/pandas/conversion.py:122: UserWarning:\n\ntoPandas attempted Arrow optimization because 'spark.sql.execution.arrow.pyspark.enabled' is set to true; however, failed by the reason below:\n  Unable to convert the field pearson(__correlation_output__). If this column is not necessary, you may consider dropping it or converting to primitive type before the conversion.\nDirect cause: Unsupported type in conversion to Arrow: MatrixUDT()\nAttempting non-optimization as 'spark.sql.execution.arrow.pyspark.fallback.enabled' is set to true.\n\n"
     ]
    },
    {
     "output_type": "display_data",
     "data": {
      "text/html": [
       "<style type=\"text/css\">\n",
       "#T_3a631_row0_col0, #T_3a631_row1_col1, #T_3a631_row2_col2, #T_3a631_row3_col3, #T_3a631_row4_col4 {\n",
       "  background-color: #67000d;\n",
       "  color: #f1f1f1;\n",
       "}\n",
       "#T_3a631_row0_col1, #T_3a631_row1_col0 {\n",
       "  background-color: #e43027;\n",
       "  color: #f1f1f1;\n",
       "}\n",
       "#T_3a631_row0_col2, #T_3a631_row2_col0 {\n",
       "  background-color: #e32f27;\n",
       "  color: #f1f1f1;\n",
       "}\n",
       "#T_3a631_row0_col3, #T_3a631_row3_col0 {\n",
       "  background-color: #e53228;\n",
       "  color: #f1f1f1;\n",
       "}\n",
       "#T_3a631_row0_col4, #T_3a631_row4_col0 {\n",
       "  background-color: #ed392b;\n",
       "  color: #f1f1f1;\n",
       "}\n",
       "#T_3a631_row1_col2, #T_3a631_row2_col1 {\n",
       "  background-color: #cc191e;\n",
       "  color: #f1f1f1;\n",
       "}\n",
       "#T_3a631_row1_col3, #T_3a631_row3_col1, #T_3a631_row3_col4, #T_3a631_row4_col3 {\n",
       "  background-color: #c1161b;\n",
       "  color: #f1f1f1;\n",
       "}\n",
       "#T_3a631_row1_col4, #T_3a631_row4_col1 {\n",
       "  background-color: #ca181d;\n",
       "  color: #f1f1f1;\n",
       "}\n",
       "#T_3a631_row2_col3, #T_3a631_row3_col2 {\n",
       "  background-color: #c9181d;\n",
       "  color: #f1f1f1;\n",
       "}\n",
       "#T_3a631_row2_col4, #T_3a631_row4_col2 {\n",
       "  background-color: #bd151a;\n",
       "  color: #f1f1f1;\n",
       "}\n",
       "</style>\n",
       "<table id=\"T_3a631\">\n",
       "  <thead>\n",
       "    <tr>\n",
       "      <th class=\"blank level0\" >&nbsp;</th>\n",
       "      <th id=\"T_3a631_level0_col0\" class=\"col_heading level0 col0\" >Redação</th>\n",
       "      <th id=\"T_3a631_level0_col1\" class=\"col_heading level0 col1\" >Matemática e suas Tecnologias</th>\n",
       "      <th id=\"T_3a631_level0_col2\" class=\"col_heading level0 col2\" >Linguagens, Códigos e suas Tec</th>\n",
       "      <th id=\"T_3a631_level0_col3\" class=\"col_heading level0 col3\" >Ciências Natureza e suas Tec</th>\n",
       "      <th id=\"T_3a631_level0_col4\" class=\"col_heading level0 col4\" >Ciências Humanas e suas Tec</th>\n",
       "    </tr>\n",
       "  </thead>\n",
       "  <tbody>\n",
       "    <tr>\n",
       "      <th id=\"T_3a631_level0_row0\" class=\"row_heading level0 row0\" >Redação</th>\n",
       "      <td id=\"T_3a631_row0_col0\" class=\"data row0 col0\" >1.000000</td>\n",
       "      <td id=\"T_3a631_row0_col1\" class=\"data row0 col1\" >0.322136</td>\n",
       "      <td id=\"T_3a631_row0_col2\" class=\"data row0 col2\" >0.329476</td>\n",
       "      <td id=\"T_3a631_row0_col3\" class=\"data row0 col3\" >0.316261</td>\n",
       "      <td id=\"T_3a631_row0_col4\" class=\"data row0 col4\" >0.258916</td>\n",
       "    </tr>\n",
       "    <tr>\n",
       "      <th id=\"T_3a631_level0_row1\" class=\"row_heading level0 row1\" >Matemática e suas Tecnologias</th>\n",
       "      <td id=\"T_3a631_row1_col0\" class=\"data row1 col0\" >0.322136</td>\n",
       "      <td id=\"T_3a631_row1_col1\" class=\"data row1 col1\" >1.000000</td>\n",
       "      <td id=\"T_3a631_row1_col2\" class=\"data row1 col2\" >0.489192</td>\n",
       "      <td id=\"T_3a631_row1_col3\" class=\"data row1 col3\" >0.570014</td>\n",
       "      <td id=\"T_3a631_row1_col4\" class=\"data row1 col4\" >0.504442</td>\n",
       "    </tr>\n",
       "    <tr>\n",
       "      <th id=\"T_3a631_level0_row2\" class=\"row_heading level0 row2\" >Linguagens, Códigos e suas Tec</th>\n",
       "      <td id=\"T_3a631_row2_col0\" class=\"data row2 col0\" >0.329476</td>\n",
       "      <td id=\"T_3a631_row2_col1\" class=\"data row2 col1\" >0.489192</td>\n",
       "      <td id=\"T_3a631_row2_col2\" class=\"data row2 col2\" >1.000000</td>\n",
       "      <td id=\"T_3a631_row2_col3\" class=\"data row2 col3\" >0.514951</td>\n",
       "      <td id=\"T_3a631_row2_col4\" class=\"data row2 col4\" >0.587629</td>\n",
       "    </tr>\n",
       "    <tr>\n",
       "      <th id=\"T_3a631_level0_row3\" class=\"row_heading level0 row3\" >Ciências Natureza e suas Tec</th>\n",
       "      <td id=\"T_3a631_row3_col0\" class=\"data row3 col0\" >0.316261</td>\n",
       "      <td id=\"T_3a631_row3_col1\" class=\"data row3 col1\" >0.570014</td>\n",
       "      <td id=\"T_3a631_row3_col2\" class=\"data row3 col2\" >0.514951</td>\n",
       "      <td id=\"T_3a631_row3_col3\" class=\"data row3 col3\" >1.000000</td>\n",
       "      <td id=\"T_3a631_row3_col4\" class=\"data row3 col4\" >0.563208</td>\n",
       "    </tr>\n",
       "    <tr>\n",
       "      <th id=\"T_3a631_level0_row4\" class=\"row_heading level0 row4\" >Ciências Humanas e suas Tec</th>\n",
       "      <td id=\"T_3a631_row4_col0\" class=\"data row4 col0\" >0.258916</td>\n",
       "      <td id=\"T_3a631_row4_col1\" class=\"data row4 col1\" >0.504442</td>\n",
       "      <td id=\"T_3a631_row4_col2\" class=\"data row4 col2\" >0.587629</td>\n",
       "      <td id=\"T_3a631_row4_col3\" class=\"data row4 col3\" >0.563208</td>\n",
       "      <td id=\"T_3a631_row4_col4\" class=\"data row4 col4\" >1.000000</td>\n",
       "    </tr>\n",
       "  </tbody>\n",
       "</table>\n"
      ]
     },
     "metadata": {
      "application/vnd.databricks.v1+output": {
       "addedWidgets": {},
       "arguments": {},
       "data": "<style type=\"text/css\">\n#T_3a631_row0_col0, #T_3a631_row1_col1, #T_3a631_row2_col2, #T_3a631_row3_col3, #T_3a631_row4_col4 {\n  background-color: #67000d;\n  color: #f1f1f1;\n}\n#T_3a631_row0_col1, #T_3a631_row1_col0 {\n  background-color: #e43027;\n  color: #f1f1f1;\n}\n#T_3a631_row0_col2, #T_3a631_row2_col0 {\n  background-color: #e32f27;\n  color: #f1f1f1;\n}\n#T_3a631_row0_col3, #T_3a631_row3_col0 {\n  background-color: #e53228;\n  color: #f1f1f1;\n}\n#T_3a631_row0_col4, #T_3a631_row4_col0 {\n  background-color: #ed392b;\n  color: #f1f1f1;\n}\n#T_3a631_row1_col2, #T_3a631_row2_col1 {\n  background-color: #cc191e;\n  color: #f1f1f1;\n}\n#T_3a631_row1_col3, #T_3a631_row3_col1, #T_3a631_row3_col4, #T_3a631_row4_col3 {\n  background-color: #c1161b;\n  color: #f1f1f1;\n}\n#T_3a631_row1_col4, #T_3a631_row4_col1 {\n  background-color: #ca181d;\n  color: #f1f1f1;\n}\n#T_3a631_row2_col3, #T_3a631_row3_col2 {\n  background-color: #c9181d;\n  color: #f1f1f1;\n}\n#T_3a631_row2_col4, #T_3a631_row4_col2 {\n  background-color: #bd151a;\n  color: #f1f1f1;\n}\n</style>\n<table id=\"T_3a631\">\n  <thead>\n    <tr>\n      <th class=\"blank level0\" >&nbsp;</th>\n      <th id=\"T_3a631_level0_col0\" class=\"col_heading level0 col0\" >Redação</th>\n      <th id=\"T_3a631_level0_col1\" class=\"col_heading level0 col1\" >Matemática e suas Tecnologias</th>\n      <th id=\"T_3a631_level0_col2\" class=\"col_heading level0 col2\" >Linguagens, Códigos e suas Tec</th>\n      <th id=\"T_3a631_level0_col3\" class=\"col_heading level0 col3\" >Ciências Natureza e suas Tec</th>\n      <th id=\"T_3a631_level0_col4\" class=\"col_heading level0 col4\" >Ciências Humanas e suas Tec</th>\n    </tr>\n  </thead>\n  <tbody>\n    <tr>\n      <th id=\"T_3a631_level0_row0\" class=\"row_heading level0 row0\" >Redação</th>\n      <td id=\"T_3a631_row0_col0\" class=\"data row0 col0\" >1.000000</td>\n      <td id=\"T_3a631_row0_col1\" class=\"data row0 col1\" >0.322136</td>\n      <td id=\"T_3a631_row0_col2\" class=\"data row0 col2\" >0.329476</td>\n      <td id=\"T_3a631_row0_col3\" class=\"data row0 col3\" >0.316261</td>\n      <td id=\"T_3a631_row0_col4\" class=\"data row0 col4\" >0.258916</td>\n    </tr>\n    <tr>\n      <th id=\"T_3a631_level0_row1\" class=\"row_heading level0 row1\" >Matemática e suas Tecnologias</th>\n      <td id=\"T_3a631_row1_col0\" class=\"data row1 col0\" >0.322136</td>\n      <td id=\"T_3a631_row1_col1\" class=\"data row1 col1\" >1.000000</td>\n      <td id=\"T_3a631_row1_col2\" class=\"data row1 col2\" >0.489192</td>\n      <td id=\"T_3a631_row1_col3\" class=\"data row1 col3\" >0.570014</td>\n      <td id=\"T_3a631_row1_col4\" class=\"data row1 col4\" >0.504442</td>\n    </tr>\n    <tr>\n      <th id=\"T_3a631_level0_row2\" class=\"row_heading level0 row2\" >Linguagens, Códigos e suas Tec</th>\n      <td id=\"T_3a631_row2_col0\" class=\"data row2 col0\" >0.329476</td>\n      <td id=\"T_3a631_row2_col1\" class=\"data row2 col1\" >0.489192</td>\n      <td id=\"T_3a631_row2_col2\" class=\"data row2 col2\" >1.000000</td>\n      <td id=\"T_3a631_row2_col3\" class=\"data row2 col3\" >0.514951</td>\n      <td id=\"T_3a631_row2_col4\" class=\"data row2 col4\" >0.587629</td>\n    </tr>\n    <tr>\n      <th id=\"T_3a631_level0_row3\" class=\"row_heading level0 row3\" >Ciências Natureza e suas Tec</th>\n      <td id=\"T_3a631_row3_col0\" class=\"data row3 col0\" >0.316261</td>\n      <td id=\"T_3a631_row3_col1\" class=\"data row3 col1\" >0.570014</td>\n      <td id=\"T_3a631_row3_col2\" class=\"data row3 col2\" >0.514951</td>\n      <td id=\"T_3a631_row3_col3\" class=\"data row3 col3\" >1.000000</td>\n      <td id=\"T_3a631_row3_col4\" class=\"data row3 col4\" >0.563208</td>\n    </tr>\n    <tr>\n      <th id=\"T_3a631_level0_row4\" class=\"row_heading level0 row4\" >Ciências Humanas e suas Tec</th>\n      <td id=\"T_3a631_row4_col0\" class=\"data row4 col0\" >0.258916</td>\n      <td id=\"T_3a631_row4_col1\" class=\"data row4 col1\" >0.504442</td>\n      <td id=\"T_3a631_row4_col2\" class=\"data row4 col2\" >0.587629</td>\n      <td id=\"T_3a631_row4_col3\" class=\"data row4 col3\" >0.563208</td>\n      <td id=\"T_3a631_row4_col4\" class=\"data row4 col4\" >1.000000</td>\n    </tr>\n  </tbody>\n</table>\n",
       "datasetInfos": [],
       "metadata": {},
       "removedWidgets": [],
       "textData": null,
       "type": "htmlSandbox"
      }
     },
     "output_type": "display_data"
    }
   ],
   "source": [
    "# construindo uma matriz de correlação para o DataFrame disciplinas utilizando gradiente de cores para destacar níveis de correlação\n",
    "df_disciplinas.corr().style.background_gradient(cmap=\"Reds\",vmin=-1,vmax=1)"
   ]
  },
  {
   "cell_type": "code",
   "execution_count": 0,
   "metadata": {
    "application/vnd.databricks.v1+cell": {
     "cellMetadata": {
      "byteLimit": 2048000,
      "rowLimit": 10000
     },
     "inputWidgets": {},
     "nuid": "93fb208b-1b63-4fca-8728-d7ad8d559cc6",
     "showTitle": false,
     "title": ""
    }
   },
   "outputs": [],
   "source": [
    "# extraindo dados da página do Wikipédia\n",
    "url = 'https://pt.wikipedia.org/wiki/Educa%C3%A7%C3%A3o'"
   ]
  },
  {
   "cell_type": "code",
   "execution_count": 0,
   "metadata": {
    "application/vnd.databricks.v1+cell": {
     "cellMetadata": {
      "byteLimit": 2048000,
      "rowLimit": 10000
     },
     "inputWidgets": {},
     "nuid": "464b4ad7-0776-41be-b95b-73e0eadbb8ec",
     "showTitle": false,
     "title": ""
    }
   },
   "outputs": [
    {
     "output_type": "stream",
     "name": "stdout",
     "output_type": "stream",
     "text": [
      "Requirement already satisfied: lxml in /local_disk0/.ephemeral_nfs/envs/pythonEnv-14a4900c-0dd3-4143-83e3-d710e6e9de07/lib/python3.9/site-packages (5.1.0)\r\n\u001B[33mWARNING: You are using pip version 21.2.4; however, version 23.3.2 is available.\r\nYou should consider upgrading via the '/local_disk0/.ephemeral_nfs/envs/pythonEnv-14a4900c-0dd3-4143-83e3-d710e6e9de07/bin/python -m pip install --upgrade pip' command.\u001B[0m\r\n"
     ]
    }
   ],
   "source": [
    "# instalando biblioteca Python usada para processamento de XML e HTML\n",
    "!pip install lxml"
   ]
  },
  {
   "cell_type": "code",
   "execution_count": 0,
   "metadata": {
    "application/vnd.databricks.v1+cell": {
     "cellMetadata": {
      "byteLimit": 2048000,
      "rowLimit": 10000
     },
     "inputWidgets": {},
     "nuid": "7b1b570f-41c6-488c-83de-4ff59c3c9234",
     "showTitle": false,
     "title": ""
    }
   },
   "outputs": [],
   "source": [
    "# utilizando função 'read_html' pandas q faz a leitura de tabelas presentes em uma página web\n",
    "lista = ps.read_html(url)"
   ]
  },
  {
   "cell_type": "code",
   "execution_count": 0,
   "metadata": {
    "application/vnd.databricks.v1+cell": {
     "cellMetadata": {
      "byteLimit": 2048000,
      "rowLimit": 10000
     },
     "inputWidgets": {},
     "nuid": "a5d88d2b-bc10-4054-ac32-d9e3d25ff657",
     "showTitle": false,
     "title": ""
    }
   },
   "outputs": [],
   "source": [
    "# criando novo dataframe e adicionando o conteúdo da segunda tabela extraída da página web\n",
    "df_educacao = lista[1]"
   ]
  },
  {
   "cell_type": "code",
   "execution_count": 0,
   "metadata": {
    "application/vnd.databricks.v1+cell": {
     "cellMetadata": {
      "byteLimit": 2048000,
      "rowLimit": 10000
     },
     "inputWidgets": {},
     "nuid": "2de2390f-cecc-4aff-8707-4906b9046a87",
     "showTitle": false,
     "title": ""
    }
   },
   "outputs": [
    {
     "output_type": "display_data",
     "data": {
      "text/html": [
       "<div>\n",
       "<style scoped>\n",
       "    .dataframe tbody tr th:only-of-type {\n",
       "        vertical-align: middle;\n",
       "    }\n",
       "\n",
       "    .dataframe tbody tr th {\n",
       "        vertical-align: top;\n",
       "    }\n",
       "\n",
       "    .dataframe thead th {\n",
       "        text-align: right;\n",
       "    }\n",
       "</style>\n",
       "<table border=\"1\" class=\"dataframe\">\n",
       "  <thead>\n",
       "    <tr style=\"text-align: right;\">\n",
       "      <th></th>\n",
       "      <th>0</th>\n",
       "      <th>1</th>\n",
       "      <th>2</th>\n",
       "      <th>3</th>\n",
       "      <th>4</th>\n",
       "      <th>5</th>\n",
       "      <th>6</th>\n",
       "      <th>7</th>\n",
       "      <th>8</th>\n",
       "      <th>9</th>\n",
       "      <th>10</th>\n",
       "      <th>11</th>\n",
       "      <th>12</th>\n",
       "      <th>13</th>\n",
       "      <th>14</th>\n",
       "      <th>15</th>\n",
       "      <th>16</th>\n",
       "    </tr>\n",
       "  </thead>\n",
       "  <tbody>\n",
       "    <tr>\n",
       "      <th>0</th>\n",
       "      <td>Idade 3 anos 4 anos 5 anos 6 anos 7 anos 8 ano...</td>\n",
       "      <td>None</td>\n",
       "      <td>None</td>\n",
       "      <td>None</td>\n",
       "      <td>None</td>\n",
       "      <td>None</td>\n",
       "      <td>None</td>\n",
       "      <td>None</td>\n",
       "      <td>None</td>\n",
       "      <td>None</td>\n",
       "      <td>None</td>\n",
       "      <td>None</td>\n",
       "      <td>None</td>\n",
       "      <td>None</td>\n",
       "      <td>None</td>\n",
       "      <td>None</td>\n",
       "      <td>None</td>\n",
       "    </tr>\n",
       "    <tr>\n",
       "      <th>1</th>\n",
       "      <td>Idade</td>\n",
       "      <td>3 anos</td>\n",
       "      <td>4 anos</td>\n",
       "      <td>5 anos</td>\n",
       "      <td>6 anos</td>\n",
       "      <td>7 anos</td>\n",
       "      <td>8 anos</td>\n",
       "      <td>9 anos</td>\n",
       "      <td>10 anos</td>\n",
       "      <td>11 anos</td>\n",
       "      <td>12 anos</td>\n",
       "      <td>13 anos</td>\n",
       "      <td>14 anos</td>\n",
       "      <td>15 anos</td>\n",
       "      <td>16 anos</td>\n",
       "      <td>17 anos</td>\n",
       "      <td>18 anos</td>\n",
       "    </tr>\n",
       "    <tr>\n",
       "      <th>2</th>\n",
       "      <td>Bélgica</td>\n",
       "      <td>Maternelle</td>\n",
       "      <td>Maternelle</td>\n",
       "      <td>Maternelle</td>\n",
       "      <td>1ère à 6ème primaire</td>\n",
       "      <td>1ère à 6ème primaire</td>\n",
       "      <td>1ère à 6ème primaire</td>\n",
       "      <td>1ère à 6ème primaire</td>\n",
       "      <td>1ère à 6ème primaire</td>\n",
       "      <td>1ère à 6ème primaire</td>\n",
       "      <td>1ère à 6ème secondaire</td>\n",
       "      <td>1ère à 6ème secondaire</td>\n",
       "      <td>1ère à 6ème secondaire</td>\n",
       "      <td>1ère à 6ème secondaire</td>\n",
       "      <td>1ère à 6ème secondaire</td>\n",
       "      <td>1ère à 6ème secondaire</td>\n",
       "      <td>None</td>\n",
       "    </tr>\n",
       "    <tr>\n",
       "      <th>3</th>\n",
       "      <td>Brasil</td>\n",
       "      <td>Berçário/Educação Infantil</td>\n",
       "      <td>Berçário/Educação Infantil</td>\n",
       "      <td>Berçário/Educação Infantil</td>\n",
       "      <td>Ensino Fundamental I</td>\n",
       "      <td>Ensino Fundamental I</td>\n",
       "      <td>Ensino Fundamental I</td>\n",
       "      <td>Ensino Fundamental I</td>\n",
       "      <td>Ensino Fundamental I</td>\n",
       "      <td>Ensino Fundamental II</td>\n",
       "      <td>Ensino Fundamental II</td>\n",
       "      <td>Ensino Fundamental II</td>\n",
       "      <td>Ensino Fundamental II</td>\n",
       "      <td>Ensino médio</td>\n",
       "      <td>Ensino médio</td>\n",
       "      <td>Ensino médio</td>\n",
       "      <td>None</td>\n",
       "    </tr>\n",
       "    <tr>\n",
       "      <th>4</th>\n",
       "      <td>França</td>\n",
       "      <td>Maternelle</td>\n",
       "      <td>Maternelle</td>\n",
       "      <td>Maternelle</td>\n",
       "      <td>École élémentaire</td>\n",
       "      <td>École élémentaire</td>\n",
       "      <td>École élémentaire</td>\n",
       "      <td>École élémentaire</td>\n",
       "      <td>École élémentaire</td>\n",
       "      <td>Collège</td>\n",
       "      <td>Collège</td>\n",
       "      <td>Collège</td>\n",
       "      <td>Collège</td>\n",
       "      <td>Lycée</td>\n",
       "      <td>Lycée</td>\n",
       "      <td>Lycée</td>\n",
       "      <td>None</td>\n",
       "    </tr>\n",
       "  </tbody>\n",
       "</table>\n",
       "</div>"
      ]
     },
     "metadata": {
      "application/vnd.databricks.v1+output": {
       "addedWidgets": {},
       "arguments": {},
       "data": "<div>\n<style scoped>\n    .dataframe tbody tr th:only-of-type {\n        vertical-align: middle;\n    }\n\n    .dataframe tbody tr th {\n        vertical-align: top;\n    }\n\n    .dataframe thead th {\n        text-align: right;\n    }\n</style>\n<table border=\"1\" class=\"dataframe\">\n  <thead>\n    <tr style=\"text-align: right;\">\n      <th></th>\n      <th>0</th>\n      <th>1</th>\n      <th>2</th>\n      <th>3</th>\n      <th>4</th>\n      <th>5</th>\n      <th>6</th>\n      <th>7</th>\n      <th>8</th>\n      <th>9</th>\n      <th>10</th>\n      <th>11</th>\n      <th>12</th>\n      <th>13</th>\n      <th>14</th>\n      <th>15</th>\n      <th>16</th>\n    </tr>\n  </thead>\n  <tbody>\n    <tr>\n      <th>0</th>\n      <td>Idade 3 anos 4 anos 5 anos 6 anos 7 anos 8 ano...</td>\n      <td>None</td>\n      <td>None</td>\n      <td>None</td>\n      <td>None</td>\n      <td>None</td>\n      <td>None</td>\n      <td>None</td>\n      <td>None</td>\n      <td>None</td>\n      <td>None</td>\n      <td>None</td>\n      <td>None</td>\n      <td>None</td>\n      <td>None</td>\n      <td>None</td>\n      <td>None</td>\n    </tr>\n    <tr>\n      <th>1</th>\n      <td>Idade</td>\n      <td>3 anos</td>\n      <td>4 anos</td>\n      <td>5 anos</td>\n      <td>6 anos</td>\n      <td>7 anos</td>\n      <td>8 anos</td>\n      <td>9 anos</td>\n      <td>10 anos</td>\n      <td>11 anos</td>\n      <td>12 anos</td>\n      <td>13 anos</td>\n      <td>14 anos</td>\n      <td>15 anos</td>\n      <td>16 anos</td>\n      <td>17 anos</td>\n      <td>18 anos</td>\n    </tr>\n    <tr>\n      <th>2</th>\n      <td>Bélgica</td>\n      <td>Maternelle</td>\n      <td>Maternelle</td>\n      <td>Maternelle</td>\n      <td>1ère à 6ème primaire</td>\n      <td>1ère à 6ème primaire</td>\n      <td>1ère à 6ème primaire</td>\n      <td>1ère à 6ème primaire</td>\n      <td>1ère à 6ème primaire</td>\n      <td>1ère à 6ème primaire</td>\n      <td>1ère à 6ème secondaire</td>\n      <td>1ère à 6ème secondaire</td>\n      <td>1ère à 6ème secondaire</td>\n      <td>1ère à 6ème secondaire</td>\n      <td>1ère à 6ème secondaire</td>\n      <td>1ère à 6ème secondaire</td>\n      <td>None</td>\n    </tr>\n    <tr>\n      <th>3</th>\n      <td>Brasil</td>\n      <td>Berçário/Educação Infantil</td>\n      <td>Berçário/Educação Infantil</td>\n      <td>Berçário/Educação Infantil</td>\n      <td>Ensino Fundamental I</td>\n      <td>Ensino Fundamental I</td>\n      <td>Ensino Fundamental I</td>\n      <td>Ensino Fundamental I</td>\n      <td>Ensino Fundamental I</td>\n      <td>Ensino Fundamental II</td>\n      <td>Ensino Fundamental II</td>\n      <td>Ensino Fundamental II</td>\n      <td>Ensino Fundamental II</td>\n      <td>Ensino médio</td>\n      <td>Ensino médio</td>\n      <td>Ensino médio</td>\n      <td>None</td>\n    </tr>\n    <tr>\n      <th>4</th>\n      <td>França</td>\n      <td>Maternelle</td>\n      <td>Maternelle</td>\n      <td>Maternelle</td>\n      <td>École élémentaire</td>\n      <td>École élémentaire</td>\n      <td>École élémentaire</td>\n      <td>École élémentaire</td>\n      <td>École élémentaire</td>\n      <td>Collège</td>\n      <td>Collège</td>\n      <td>Collège</td>\n      <td>Collège</td>\n      <td>Lycée</td>\n      <td>Lycée</td>\n      <td>Lycée</td>\n      <td>None</td>\n    </tr>\n  </tbody>\n</table>\n</div>",
       "datasetInfos": [],
       "metadata": {},
       "removedWidgets": [],
       "textData": null,
       "type": "htmlSandbox"
      }
     },
     "output_type": "display_data"
    }
   ],
   "source": [
    "# leitura das primeiras linhas do dataframe\n",
    "df_educacao.head()"
   ]
  },
  {
   "cell_type": "code",
   "execution_count": 0,
   "metadata": {
    "application/vnd.databricks.v1+cell": {
     "cellMetadata": {
      "byteLimit": 2048000,
      "rowLimit": 10000
     },
     "inputWidgets": {},
     "nuid": "8e0cfa9f-231d-46d4-bdda-67560ecdff8a",
     "showTitle": false,
     "title": ""
    }
   },
   "outputs": [
    {
     "output_type": "display_data",
     "data": {
      "text/html": [
       "<div>\n",
       "<style scoped>\n",
       "    .dataframe tbody tr th:only-of-type {\n",
       "        vertical-align: middle;\n",
       "    }\n",
       "\n",
       "    .dataframe tbody tr th {\n",
       "        vertical-align: top;\n",
       "    }\n",
       "\n",
       "    .dataframe thead th {\n",
       "        text-align: right;\n",
       "    }\n",
       "</style>\n",
       "<table border=\"1\" class=\"dataframe\">\n",
       "  <thead>\n",
       "    <tr style=\"text-align: right;\">\n",
       "      <th></th>\n",
       "      <th>0</th>\n",
       "      <th>1</th>\n",
       "      <th>2</th>\n",
       "      <th>3</th>\n",
       "      <th>4</th>\n",
       "      <th>5</th>\n",
       "      <th>6</th>\n",
       "      <th>7</th>\n",
       "      <th>8</th>\n",
       "      <th>9</th>\n",
       "      <th>10</th>\n",
       "      <th>11</th>\n",
       "      <th>12</th>\n",
       "      <th>13</th>\n",
       "      <th>14</th>\n",
       "      <th>15</th>\n",
       "      <th>16</th>\n",
       "    </tr>\n",
       "  </thead>\n",
       "  <tbody>\n",
       "    <tr>\n",
       "      <th>1</th>\n",
       "      <td>Idade</td>\n",
       "      <td>3 anos</td>\n",
       "      <td>4 anos</td>\n",
       "      <td>5 anos</td>\n",
       "      <td>6 anos</td>\n",
       "      <td>7 anos</td>\n",
       "      <td>8 anos</td>\n",
       "      <td>9 anos</td>\n",
       "      <td>10 anos</td>\n",
       "      <td>11 anos</td>\n",
       "      <td>12 anos</td>\n",
       "      <td>13 anos</td>\n",
       "      <td>14 anos</td>\n",
       "      <td>15 anos</td>\n",
       "      <td>16 anos</td>\n",
       "      <td>17 anos</td>\n",
       "      <td>18 anos</td>\n",
       "    </tr>\n",
       "    <tr>\n",
       "      <th>2</th>\n",
       "      <td>Bélgica</td>\n",
       "      <td>Maternelle</td>\n",
       "      <td>Maternelle</td>\n",
       "      <td>Maternelle</td>\n",
       "      <td>1ère à 6ème primaire</td>\n",
       "      <td>1ère à 6ème primaire</td>\n",
       "      <td>1ère à 6ème primaire</td>\n",
       "      <td>1ère à 6ème primaire</td>\n",
       "      <td>1ère à 6ème primaire</td>\n",
       "      <td>1ère à 6ème primaire</td>\n",
       "      <td>1ère à 6ème secondaire</td>\n",
       "      <td>1ère à 6ème secondaire</td>\n",
       "      <td>1ère à 6ème secondaire</td>\n",
       "      <td>1ère à 6ème secondaire</td>\n",
       "      <td>1ère à 6ème secondaire</td>\n",
       "      <td>1ère à 6ème secondaire</td>\n",
       "      <td>None</td>\n",
       "    </tr>\n",
       "    <tr>\n",
       "      <th>3</th>\n",
       "      <td>Brasil</td>\n",
       "      <td>Berçário/Educação Infantil</td>\n",
       "      <td>Berçário/Educação Infantil</td>\n",
       "      <td>Berçário/Educação Infantil</td>\n",
       "      <td>Ensino Fundamental I</td>\n",
       "      <td>Ensino Fundamental I</td>\n",
       "      <td>Ensino Fundamental I</td>\n",
       "      <td>Ensino Fundamental I</td>\n",
       "      <td>Ensino Fundamental I</td>\n",
       "      <td>Ensino Fundamental II</td>\n",
       "      <td>Ensino Fundamental II</td>\n",
       "      <td>Ensino Fundamental II</td>\n",
       "      <td>Ensino Fundamental II</td>\n",
       "      <td>Ensino médio</td>\n",
       "      <td>Ensino médio</td>\n",
       "      <td>Ensino médio</td>\n",
       "      <td>None</td>\n",
       "    </tr>\n",
       "    <tr>\n",
       "      <th>4</th>\n",
       "      <td>França</td>\n",
       "      <td>Maternelle</td>\n",
       "      <td>Maternelle</td>\n",
       "      <td>Maternelle</td>\n",
       "      <td>École élémentaire</td>\n",
       "      <td>École élémentaire</td>\n",
       "      <td>École élémentaire</td>\n",
       "      <td>École élémentaire</td>\n",
       "      <td>École élémentaire</td>\n",
       "      <td>Collège</td>\n",
       "      <td>Collège</td>\n",
       "      <td>Collège</td>\n",
       "      <td>Collège</td>\n",
       "      <td>Lycée</td>\n",
       "      <td>Lycée</td>\n",
       "      <td>Lycée</td>\n",
       "      <td>None</td>\n",
       "    </tr>\n",
       "    <tr>\n",
       "      <th>5</th>\n",
       "      <td>Irlanda</td>\n",
       "      <td>None</td>\n",
       "      <td>Prescool</td>\n",
       "      <td>Prescool</td>\n",
       "      <td>Primary school</td>\n",
       "      <td>Primary school</td>\n",
       "      <td>Primary school</td>\n",
       "      <td>Primary school</td>\n",
       "      <td>Primary school</td>\n",
       "      <td>Primary school</td>\n",
       "      <td>junior cycle</td>\n",
       "      <td>junior cycle</td>\n",
       "      <td>junior cycle</td>\n",
       "      <td>None</td>\n",
       "      <td>senior cycle</td>\n",
       "      <td>senior cycle</td>\n",
       "      <td>None</td>\n",
       "    </tr>\n",
       "    <tr>\n",
       "      <th>6</th>\n",
       "      <td>Canadá</td>\n",
       "      <td>Pré-mat.</td>\n",
       "      <td>Pré-mat.</td>\n",
       "      <td>Mat.</td>\n",
       "      <td>École primaire</td>\n",
       "      <td>École primaire</td>\n",
       "      <td>École primaire</td>\n",
       "      <td>École primaire</td>\n",
       "      <td>École primaire</td>\n",
       "      <td>École primaire</td>\n",
       "      <td>Secondaire 1 a 5</td>\n",
       "      <td>Secondaire 1 a 5</td>\n",
       "      <td>Secondaire 1 a 5</td>\n",
       "      <td>Secondaire 1 a 5</td>\n",
       "      <td>Secondaire 1 a 5</td>\n",
       "      <td>Cégep</td>\n",
       "      <td>Cégep</td>\n",
       "    </tr>\n",
       "    <tr>\n",
       "      <th>7</th>\n",
       "      <td>Suíça</td>\n",
       "      <td>None</td>\n",
       "      <td>Maternelle</td>\n",
       "      <td>Maternelle</td>\n",
       "      <td>École primaire</td>\n",
       "      <td>École primaire</td>\n",
       "      <td>École primaire</td>\n",
       "      <td>École primaire</td>\n",
       "      <td>École primaire</td>\n",
       "      <td>École primaire</td>\n",
       "      <td>Secondaire I</td>\n",
       "      <td>Secondaire I</td>\n",
       "      <td>Secondaire I</td>\n",
       "      <td>Secondaire II</td>\n",
       "      <td>Secondaire II</td>\n",
       "      <td>Secondaire II</td>\n",
       "      <td>None</td>\n",
       "    </tr>\n",
       "    <tr>\n",
       "      <th>8</th>\n",
       "      <td>EUA</td>\n",
       "      <td>Preschool</td>\n",
       "      <td>Preschool</td>\n",
       "      <td>Grammar school</td>\n",
       "      <td>Grammar school</td>\n",
       "      <td>Grammar school</td>\n",
       "      <td>Grammar school</td>\n",
       "      <td>Grammar school</td>\n",
       "      <td>Grammar school</td>\n",
       "      <td>Middle school</td>\n",
       "      <td>Middle school</td>\n",
       "      <td>Middle school</td>\n",
       "      <td>High school</td>\n",
       "      <td>High school</td>\n",
       "      <td>High school</td>\n",
       "      <td>High school</td>\n",
       "      <td>None</td>\n",
       "    </tr>\n",
       "    <tr>\n",
       "      <th>9</th>\n",
       "      <td>Espanha</td>\n",
       "      <td>Educación Infantil</td>\n",
       "      <td>Educación Infantil</td>\n",
       "      <td>Educación Infantil</td>\n",
       "      <td>Educación Primaria</td>\n",
       "      <td>Educación Primaria</td>\n",
       "      <td>Educación Primaria</td>\n",
       "      <td>Educación Primaria</td>\n",
       "      <td>Educación Primaria</td>\n",
       "      <td>Educación Primaria</td>\n",
       "      <td>Educación Secundaria Obligatoria</td>\n",
       "      <td>Educación Secundaria Obligatoria</td>\n",
       "      <td>Educación Secundaria Obligatoria</td>\n",
       "      <td>Educación Secundaria Obligatoria</td>\n",
       "      <td>Bachillerato</td>\n",
       "      <td>Bachillerato</td>\n",
       "      <td>None</td>\n",
       "    </tr>\n",
       "    <tr>\n",
       "      <th>10</th>\n",
       "      <td>Portugal</td>\n",
       "      <td>Educação pré-escolar</td>\n",
       "      <td>Educação pré-escolar</td>\n",
       "      <td>Educação pré-escolar</td>\n",
       "      <td>1.º ciclo do ensino básico</td>\n",
       "      <td>1.º ciclo do ensino básico</td>\n",
       "      <td>1.º ciclo do ensino básico</td>\n",
       "      <td>1.º ciclo do ensino básico</td>\n",
       "      <td>2.º ciclo do ensino básico</td>\n",
       "      <td>2.º ciclo do ensino básico</td>\n",
       "      <td>3.º ciclo do ensino básico</td>\n",
       "      <td>3.º ciclo do ensino básico</td>\n",
       "      <td>3.º ciclo do ensino básico</td>\n",
       "      <td>Ensino secundário</td>\n",
       "      <td>Ensino secundário</td>\n",
       "      <td>Ensino secundário</td>\n",
       "      <td>None</td>\n",
       "    </tr>\n",
       "    <tr>\n",
       "      <th>11</th>\n",
       "      <td>México</td>\n",
       "      <td>Educación preescolar</td>\n",
       "      <td>Educación preescolar</td>\n",
       "      <td>Educación preescolar</td>\n",
       "      <td>Primaria/Educación básica</td>\n",
       "      <td>Primaria/Educación básica</td>\n",
       "      <td>Primaria/Educación básica</td>\n",
       "      <td>Primaria/Educación básica</td>\n",
       "      <td>Primaria/Educación básica</td>\n",
       "      <td>Primaria/Educación básica</td>\n",
       "      <td>Secundaria/Educación básica</td>\n",
       "      <td>Secundaria/Educación básica</td>\n",
       "      <td>Secundaria/Educación básica</td>\n",
       "      <td>Preparatoria/Bachillerato/Educación Media Supe...</td>\n",
       "      <td>Preparatoria/Bachillerato/Educación Media Supe...</td>\n",
       "      <td>Preparatoria/Bachillerato/Educación Media Supe...</td>\n",
       "      <td>None</td>\n",
       "    </tr>\n",
       "    <tr>\n",
       "      <th>12</th>\n",
       "      <td>Cabo Verde</td>\n",
       "      <td>Pré-escolar</td>\n",
       "      <td>Pré-escolar</td>\n",
       "      <td>Pré-escolar</td>\n",
       "      <td>Básico integrado (1ª,2ª,3ª fase)</td>\n",
       "      <td>Básico integrado (1ª,2ª,3ª fase)</td>\n",
       "      <td>Básico integrado (1ª,2ª,3ª fase)</td>\n",
       "      <td>Básico integrado (1ª,2ª,3ª fase)</td>\n",
       "      <td>Básico integrado (1ª,2ª,3ª fase)</td>\n",
       "      <td>Básico integrado (1ª,2ª,3ª fase)</td>\n",
       "      <td>Secundário (1º,2º,3º ciclo)</td>\n",
       "      <td>Secundário (1º,2º,3º ciclo)</td>\n",
       "      <td>Secundário (1º,2º,3º ciclo)</td>\n",
       "      <td>Secundário (1º,2º,3º ciclo)</td>\n",
       "      <td>Secundário (1º,2º,3º ciclo)</td>\n",
       "      <td>Secundário (1º,2º,3º ciclo)</td>\n",
       "      <td>None</td>\n",
       "    </tr>\n",
       "  </tbody>\n",
       "</table>\n",
       "</div>"
      ]
     },
     "metadata": {
      "application/vnd.databricks.v1+output": {
       "addedWidgets": {},
       "arguments": {},
       "data": "<div>\n<style scoped>\n    .dataframe tbody tr th:only-of-type {\n        vertical-align: middle;\n    }\n\n    .dataframe tbody tr th {\n        vertical-align: top;\n    }\n\n    .dataframe thead th {\n        text-align: right;\n    }\n</style>\n<table border=\"1\" class=\"dataframe\">\n  <thead>\n    <tr style=\"text-align: right;\">\n      <th></th>\n      <th>0</th>\n      <th>1</th>\n      <th>2</th>\n      <th>3</th>\n      <th>4</th>\n      <th>5</th>\n      <th>6</th>\n      <th>7</th>\n      <th>8</th>\n      <th>9</th>\n      <th>10</th>\n      <th>11</th>\n      <th>12</th>\n      <th>13</th>\n      <th>14</th>\n      <th>15</th>\n      <th>16</th>\n    </tr>\n  </thead>\n  <tbody>\n    <tr>\n      <th>1</th>\n      <td>Idade</td>\n      <td>3 anos</td>\n      <td>4 anos</td>\n      <td>5 anos</td>\n      <td>6 anos</td>\n      <td>7 anos</td>\n      <td>8 anos</td>\n      <td>9 anos</td>\n      <td>10 anos</td>\n      <td>11 anos</td>\n      <td>12 anos</td>\n      <td>13 anos</td>\n      <td>14 anos</td>\n      <td>15 anos</td>\n      <td>16 anos</td>\n      <td>17 anos</td>\n      <td>18 anos</td>\n    </tr>\n    <tr>\n      <th>2</th>\n      <td>Bélgica</td>\n      <td>Maternelle</td>\n      <td>Maternelle</td>\n      <td>Maternelle</td>\n      <td>1ère à 6ème primaire</td>\n      <td>1ère à 6ème primaire</td>\n      <td>1ère à 6ème primaire</td>\n      <td>1ère à 6ème primaire</td>\n      <td>1ère à 6ème primaire</td>\n      <td>1ère à 6ème primaire</td>\n      <td>1ère à 6ème secondaire</td>\n      <td>1ère à 6ème secondaire</td>\n      <td>1ère à 6ème secondaire</td>\n      <td>1ère à 6ème secondaire</td>\n      <td>1ère à 6ème secondaire</td>\n      <td>1ère à 6ème secondaire</td>\n      <td>None</td>\n    </tr>\n    <tr>\n      <th>3</th>\n      <td>Brasil</td>\n      <td>Berçário/Educação Infantil</td>\n      <td>Berçário/Educação Infantil</td>\n      <td>Berçário/Educação Infantil</td>\n      <td>Ensino Fundamental I</td>\n      <td>Ensino Fundamental I</td>\n      <td>Ensino Fundamental I</td>\n      <td>Ensino Fundamental I</td>\n      <td>Ensino Fundamental I</td>\n      <td>Ensino Fundamental II</td>\n      <td>Ensino Fundamental II</td>\n      <td>Ensino Fundamental II</td>\n      <td>Ensino Fundamental II</td>\n      <td>Ensino médio</td>\n      <td>Ensino médio</td>\n      <td>Ensino médio</td>\n      <td>None</td>\n    </tr>\n    <tr>\n      <th>4</th>\n      <td>França</td>\n      <td>Maternelle</td>\n      <td>Maternelle</td>\n      <td>Maternelle</td>\n      <td>École élémentaire</td>\n      <td>École élémentaire</td>\n      <td>École élémentaire</td>\n      <td>École élémentaire</td>\n      <td>École élémentaire</td>\n      <td>Collège</td>\n      <td>Collège</td>\n      <td>Collège</td>\n      <td>Collège</td>\n      <td>Lycée</td>\n      <td>Lycée</td>\n      <td>Lycée</td>\n      <td>None</td>\n    </tr>\n    <tr>\n      <th>5</th>\n      <td>Irlanda</td>\n      <td>None</td>\n      <td>Prescool</td>\n      <td>Prescool</td>\n      <td>Primary school</td>\n      <td>Primary school</td>\n      <td>Primary school</td>\n      <td>Primary school</td>\n      <td>Primary school</td>\n      <td>Primary school</td>\n      <td>junior cycle</td>\n      <td>junior cycle</td>\n      <td>junior cycle</td>\n      <td>None</td>\n      <td>senior cycle</td>\n      <td>senior cycle</td>\n      <td>None</td>\n    </tr>\n    <tr>\n      <th>6</th>\n      <td>Canadá</td>\n      <td>Pré-mat.</td>\n      <td>Pré-mat.</td>\n      <td>Mat.</td>\n      <td>École primaire</td>\n      <td>École primaire</td>\n      <td>École primaire</td>\n      <td>École primaire</td>\n      <td>École primaire</td>\n      <td>École primaire</td>\n      <td>Secondaire 1 a 5</td>\n      <td>Secondaire 1 a 5</td>\n      <td>Secondaire 1 a 5</td>\n      <td>Secondaire 1 a 5</td>\n      <td>Secondaire 1 a 5</td>\n      <td>Cégep</td>\n      <td>Cégep</td>\n    </tr>\n    <tr>\n      <th>7</th>\n      <td>Suíça</td>\n      <td>None</td>\n      <td>Maternelle</td>\n      <td>Maternelle</td>\n      <td>École primaire</td>\n      <td>École primaire</td>\n      <td>École primaire</td>\n      <td>École primaire</td>\n      <td>École primaire</td>\n      <td>École primaire</td>\n      <td>Secondaire I</td>\n      <td>Secondaire I</td>\n      <td>Secondaire I</td>\n      <td>Secondaire II</td>\n      <td>Secondaire II</td>\n      <td>Secondaire II</td>\n      <td>None</td>\n    </tr>\n    <tr>\n      <th>8</th>\n      <td>EUA</td>\n      <td>Preschool</td>\n      <td>Preschool</td>\n      <td>Grammar school</td>\n      <td>Grammar school</td>\n      <td>Grammar school</td>\n      <td>Grammar school</td>\n      <td>Grammar school</td>\n      <td>Grammar school</td>\n      <td>Middle school</td>\n      <td>Middle school</td>\n      <td>Middle school</td>\n      <td>High school</td>\n      <td>High school</td>\n      <td>High school</td>\n      <td>High school</td>\n      <td>None</td>\n    </tr>\n    <tr>\n      <th>9</th>\n      <td>Espanha</td>\n      <td>Educación Infantil</td>\n      <td>Educación Infantil</td>\n      <td>Educación Infantil</td>\n      <td>Educación Primaria</td>\n      <td>Educación Primaria</td>\n      <td>Educación Primaria</td>\n      <td>Educación Primaria</td>\n      <td>Educación Primaria</td>\n      <td>Educación Primaria</td>\n      <td>Educación Secundaria Obligatoria</td>\n      <td>Educación Secundaria Obligatoria</td>\n      <td>Educación Secundaria Obligatoria</td>\n      <td>Educación Secundaria Obligatoria</td>\n      <td>Bachillerato</td>\n      <td>Bachillerato</td>\n      <td>None</td>\n    </tr>\n    <tr>\n      <th>10</th>\n      <td>Portugal</td>\n      <td>Educação pré-escolar</td>\n      <td>Educação pré-escolar</td>\n      <td>Educação pré-escolar</td>\n      <td>1.º ciclo do ensino básico</td>\n      <td>1.º ciclo do ensino básico</td>\n      <td>1.º ciclo do ensino básico</td>\n      <td>1.º ciclo do ensino básico</td>\n      <td>2.º ciclo do ensino básico</td>\n      <td>2.º ciclo do ensino básico</td>\n      <td>3.º ciclo do ensino básico</td>\n      <td>3.º ciclo do ensino básico</td>\n      <td>3.º ciclo do ensino básico</td>\n      <td>Ensino secundário</td>\n      <td>Ensino secundário</td>\n      <td>Ensino secundário</td>\n      <td>None</td>\n    </tr>\n    <tr>\n      <th>11</th>\n      <td>México</td>\n      <td>Educación preescolar</td>\n      <td>Educación preescolar</td>\n      <td>Educación preescolar</td>\n      <td>Primaria/Educación básica</td>\n      <td>Primaria/Educación básica</td>\n      <td>Primaria/Educación básica</td>\n      <td>Primaria/Educación básica</td>\n      <td>Primaria/Educación básica</td>\n      <td>Primaria/Educación básica</td>\n      <td>Secundaria/Educación básica</td>\n      <td>Secundaria/Educación básica</td>\n      <td>Secundaria/Educación básica</td>\n      <td>Preparatoria/Bachillerato/Educación Media Supe...</td>\n      <td>Preparatoria/Bachillerato/Educación Media Supe...</td>\n      <td>Preparatoria/Bachillerato/Educación Media Supe...</td>\n      <td>None</td>\n    </tr>\n    <tr>\n      <th>12</th>\n      <td>Cabo Verde</td>\n      <td>Pré-escolar</td>\n      <td>Pré-escolar</td>\n      <td>Pré-escolar</td>\n      <td>Básico integrado (1ª,2ª,3ª fase)</td>\n      <td>Básico integrado (1ª,2ª,3ª fase)</td>\n      <td>Básico integrado (1ª,2ª,3ª fase)</td>\n      <td>Básico integrado (1ª,2ª,3ª fase)</td>\n      <td>Básico integrado (1ª,2ª,3ª fase)</td>\n      <td>Básico integrado (1ª,2ª,3ª fase)</td>\n      <td>Secundário (1º,2º,3º ciclo)</td>\n      <td>Secundário (1º,2º,3º ciclo)</td>\n      <td>Secundário (1º,2º,3º ciclo)</td>\n      <td>Secundário (1º,2º,3º ciclo)</td>\n      <td>Secundário (1º,2º,3º ciclo)</td>\n      <td>Secundário (1º,2º,3º ciclo)</td>\n      <td>None</td>\n    </tr>\n  </tbody>\n</table>\n</div>",
       "datasetInfos": [],
       "metadata": {},
       "removedWidgets": [],
       "textData": null,
       "type": "htmlSandbox"
      }
     },
     "output_type": "display_data"
    }
   ],
   "source": [
    "# excluíndo a primeira linha do dataframe\n",
    "df_educacao = df_educacao.drop(0)\n",
    "df_educacao"
   ]
  },
  {
   "cell_type": "code",
   "execution_count": 0,
   "metadata": {
    "application/vnd.databricks.v1+cell": {
     "cellMetadata": {
      "byteLimit": 2048000,
      "rowLimit": 10000
     },
     "inputWidgets": {},
     "nuid": "9b01e5b2-1de5-4d50-9c12-e89525c36cb9",
     "showTitle": false,
     "title": ""
    }
   },
   "outputs": [],
   "source": [
    "# salvando conteúdo em formato Parquet\n",
    "df_educacao.to_parquet('/FileStore/tables/analise_dados_fies_2021/tabela_educacao.parquet')"
   ]
  }
 ],
 "metadata": {
  "application/vnd.databricks.v1+notebook": {
   "dashboards": [],
   "language": "python",
   "notebookMetadata": {
    "pythonIndentUnit": 4
   },
   "notebookName": "análise-de-dados-FIES-2021",
   "widgets": {}
  }
 },
 "nbformat": 4,
 "nbformat_minor": 0
}
